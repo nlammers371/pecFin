{
 "cells": [
  {
   "cell_type": "markdown",
   "metadata": {},
   "source": [
    "### Define key loading and plotting functions"
   ]
  },
  {
   "cell_type": "code",
   "execution_count": 1,
   "metadata": {
    "pycharm": {
     "is_executing": true
    }
   },
   "outputs": [
    {
     "name": "stderr",
     "output_type": "stream",
     "text": [
      "/Users/nick/miniforge3/envs/napari-env/lib/python3.10/site-packages/geopandas/_compat.py:106: UserWarning: The Shapely GEOS version (3.11.1-CAPI-1.17.1) is incompatible with the GEOS version PyGEOS was compiled with (3.10.4-CAPI-1.16.2). Conversions between both will be slow.\n",
      "  warnings.warn(\n"
     ]
    }
   ],
   "source": [
    "import dash\n",
    "import plotly.express as px\n",
    "from ome_zarr.io import parse_url\n",
    "from ome_zarr.reader import Reader\n",
    "import plotly.graph_objs as go\n",
    "import pandas as pd\n",
    "import numpy as np\n",
    "import json\n",
    "import glob2 as glob\n",
    "from skimage.measure import regionprops\n",
    "import itertools\n",
    "import os\n",
    "from scipy.interpolate import LinearNDInterpolator\n",
    "import alphashape\n",
    "\n",
    "\n",
    "def load_nucleus_dataset(filename):\n",
    "    # global fin_points_prev, not_fin_points_prev, class_predictions_curr, df, curationPath, propPath\n",
    "\n",
    "    propPath = dataRoot + filename + '_nucleus_props.csv'\n",
    "\n",
    "    if os.path.isfile(propPath):\n",
    "        df = pd.read_csv(propPath, index_col=0)\n",
    "    else:\n",
    "        raise Exception(\n",
    "            f\"Selected dataset( {filename} ) dataset has no nucleus data. Have you run extract_nucleus_stats?\")\n",
    "\n",
    "#     fin_nuclei = np.where(df[\"pec_fin_flag\"] == 1)\n",
    "#     df = df.iloc[fin_nuclei]\n",
    "\n",
    "    # normalize gene expression levels\n",
    "    colnames = df.columns\n",
    "    list_raw = [item for item in colnames if \"_cell_mean_nn\" in item]\n",
    "    gene_names = [item.replace(\"_cell_mean_nn\", \"\") for item in list_raw]\n",
    "\n",
    "    for g in gene_names:\n",
    "        ind_list = [i for i in range(len(colnames)) if g in colnames[i]]\n",
    "        for ind in ind_list:\n",
    "            colname = colnames[ind]\n",
    "            c_max = np.max(df[colname])\n",
    "            df[colname] = df.loc[:, colname] / c_max\n",
    "\n",
    "    return df\n",
    "\n",
    "\n",
    "\n"
   ]
  },
  {
   "cell_type": "markdown",
   "metadata": {},
   "source": [
    "## Get list of files"
   ]
  },
  {
   "cell_type": "code",
   "execution_count": 2,
   "metadata": {
    "pycharm": {
     "is_executing": true
    }
   },
   "outputs": [],
   "source": [
    "dataRoot = \"/Users/nick/Dropbox (Cole Trapnell's Lab)/Nick/pecFin/HCR_Data/nucleus_props/\"\n",
    "figureRoot = \"/Users/nick/Dropbox (Cole Trapnell's Lab)/Nick/pecFin/HCR_figures/\"\n",
    "if os.path.isdir(figureRoot) == False:\n",
    "    os.makedirs(figureRoot)\n",
    "    \n",
    "# get list of filepaths\n",
    "fileList = sorted(glob.glob(dataRoot + '*_nucleus_props.csv'))\n",
    "pdNameList = []\n",
    "for fn in range(len(fileList)):\n",
    "    labelName = fileList[fn].replace(dataRoot, '', 1)\n",
    "    labelName = labelName.replace('_nucleus_props.csv', '')\n",
    "    pdNameList.append(labelName)\n",
    "\n",
    "# compile dictionary of gene names that correspond to each dataset\n",
    "gene_name_dict = {}\n",
    "for f in range(len(fileList)):\n",
    "    filename_temp = pdNameList[f]\n",
    "    propPath = dataRoot + filename_temp + '_nucleus_props.csv'\n",
    "\n",
    "    if os.path.isfile(propPath):\n",
    "        df_temp = pd.read_csv(propPath, index_col=0)\n",
    "    else:\n",
    "        raise Exception(\n",
    "            f\"Selected dataset( {filename_temp} ) dataset has no nucleus data. Have you run extract_nucleus_stats?\")\n",
    "\n",
    "    # get list of genes that we can look at\n",
    "    colnames_temp = df_temp.columns\n",
    "    list_raw = [item for item in colnames_temp if \"_cell_mean_nn\" in item]\n",
    "    gene_names_temp = [item.replace(\"_cell_mean_nn\", \"\") for item in list_raw]\n",
    "\n",
    "    gene_name_dict[filename_temp] = gene_names_temp"
   ]
  },
  {
   "cell_type": "markdown",
   "metadata": {},
   "source": [
    "## Test that plotting is working"
   ]
  },
  {
   "cell_type": "code",
   "execution_count": 28,
   "metadata": {
    "pycharm": {
     "is_executing": true
    }
   },
   "outputs": [],
   "source": [
    "import math \n",
    "import shutil\n",
    "\n",
    "df_ind = 8\n",
    "\n",
    "fileName = fileList[df_ind]\n",
    "imageName = pdNameList[df_ind]\n",
    "\n",
    "# gene_name = gene_name_dict[imageName][df_ind]\n",
    "\n",
    "df = load_nucleus_dataset(imageName)\n",
    "df_fin = df.iloc[np.where(df[\"pec_fin_flag\"]==2)]\n",
    "\n",
    "\n",
    "################\n",
    "# basic nucleus position plot\n",
    "\n",
    "r_vec = np.sqrt(df_fin[\"X\"].to_numpy()**2 + df_fin[\"Y\"].to_numpy()**2 + df_fin[\"Z\"].to_numpy()**2)\n",
    "\n",
    "# make save directory\n",
    "frame_dir = figureRoot + imageName + \"_raw_nucleus_frames/\"\n",
    "if os.path.isdir(frame_dir)==True:\n",
    "    shutil.rmtree(frame_dir)\n",
    "\n",
    "os.makedirs(frame_dir)\n",
    "\n",
    "angle_vec_raw = np.linspace(1.25*np.pi, 3.25*np.pi, 25)\n",
    "angle_vec_flipped = angle_vec_raw[::-1]\n",
    "angle_vec = np.concatenate([angle_vec_raw, angle_vec_flipped[:-1]])\n",
    "\n",
    "for iter_i, a in enumerate(angle_vec):\n",
    "    angle = a\n",
    "    za = 0.3\n",
    "    vec = np.asarray([math.cos(angle), math.sin(angle), za])\n",
    "    vec = vec*2\n",
    "    camera = dict(\n",
    "        eye=dict(x=vec[0], y=vec[1], z=vec[2]))\n",
    "\n",
    "    fig = px.scatter_3d(df_fin, x=\"X\", y=\"Y\", z=\"Z\", opacity=0.5, color=r_vec, \n",
    "                        color_continuous_scale=\"ice\",template=\"plotly_white\")\n",
    "    \n",
    "    fig.update_layout(scene_camera=camera, scene_dragmode='orbit')\n",
    "    \n",
    "    fig.update_layout(scene = dict(\n",
    "                    xaxis_title='',\n",
    "                    yaxis_title='',\n",
    "                    zaxis_title='',\n",
    "                    xaxis = dict(showticklabels=False),\n",
    "                    yaxis = dict(showticklabels=False),\n",
    "                    zaxis = dict(showticklabels=False)))\n",
    "    \n",
    "    fig.update_layout(coloraxis_showscale=False)\n",
    "    \n",
    "#     fig.show()\n",
    "    fig.write_image(frame_dir + imageName + \"_\" + \"{:03d}\".format(iter_i) + \".png\")\n",
    "#     time.sleep(0.25)"
   ]
  },
  {
   "cell_type": "code",
   "execution_count": 14,
   "metadata": {},
   "outputs": [
    {
     "data": {
      "text/plain": [
       "['Fgf10a', 'Robo3', 'Prdm1a']"
      ]
     },
     "execution_count": 14,
     "metadata": {},
     "output_type": "execute_result"
    }
   ],
   "source": [
    "gene_name_dict[imageName]"
   ]
  },
  {
   "cell_type": "code",
   "execution_count": 31,
   "metadata": {},
   "outputs": [],
   "source": [
    "angle_vec = np.linspace(1.25*np.pi, 3.25*np.pi, 25)\n",
    "\n",
    "# make save directory\n",
    "gene_frame_dir = figureRoot + imageName + \"_gene_expression/\"\n",
    "if os.path.isdir(gene_frame_dir)==False:\n",
    "#     shutil.rmtree(gene_frame_dir)\n",
    "    os.makedirs(gene_frame_dir)\n",
    "\n",
    "gene_name_list = gene_name_dict[imageName]\n",
    "mRNA_suffix = \"_cell_mean_nn\"\n",
    "color_scale_list = [\"ice\", \"inferno\", \"viridis\"]\n",
    "top = 0.8\n",
    "bottom = 0.2\n",
    "\n",
    "total_counter = 0\n",
    "for g in range(len(gene_name_list)):\n",
    "    gene_name = gene_name_list[g]\n",
    "\n",
    "    col_name = gene_name + mRNA_suffix\n",
    "    mRNA_col = df_fin[col_name].copy()\n",
    "    \n",
    "    for iter_i, a in enumerate(angle_vec):\n",
    "        angle = a\n",
    "        za = -0.2\n",
    "        vec = np.asarray([math.cos(angle), math.sin(angle), za])\n",
    "        vec = vec*2\n",
    "        camera = dict(\n",
    "            eye=dict(x=vec[0], y=vec[1], z=vec[2]))\n",
    "\n",
    "        fig = px.scatter_3d(df_fin, x=\"X\", y=\"Y\", z=\"Z\", opacity=1, color=mRNA_col, range_color=[bottom, top],\n",
    "                            color_continuous_scale=color_scale_list[g], template=\"plotly_white\")\n",
    "\n",
    "        fig.update_layout(scene_camera=camera, scene_dragmode='orbit')\n",
    "        \n",
    "        fig.update_layout(title_text=gene_name, title_x=0.5)\n",
    "        \n",
    "        fig.update_layout(scene = dict(\n",
    "                        xaxis_title='',\n",
    "                        yaxis_title='',\n",
    "                        zaxis_title='',\n",
    "                        xaxis = dict(showticklabels=False),\n",
    "                        yaxis = dict(showticklabels=False),\n",
    "                        zaxis = dict(showticklabels=False)))\n",
    "\n",
    "        fig.update_layout(coloraxis_showscale=False)\n",
    "\n",
    "#         fig.show()\n",
    "        fig.write_image(gene_frame_dir + imageName + \"_mRNA_\" + \"{:03d}\".format(total_counter) + \".png\")\n",
    "        total_counter += 1"
   ]
  },
  {
   "cell_type": "code",
   "execution_count": null,
   "metadata": {},
   "outputs": [],
   "source": []
  }
 ],
 "metadata": {
  "kernelspec": {
   "display_name": "Python 3 (ipykernel)",
   "language": "python",
   "name": "python3"
  },
  "language_info": {
   "codemirror_mode": {
    "name": "ipython",
    "version": 3
   },
   "file_extension": ".py",
   "mimetype": "text/x-python",
   "name": "python",
   "nbconvert_exporter": "python",
   "pygments_lexer": "ipython3",
   "version": "3.10.8"
  }
 },
 "nbformat": 4,
 "nbformat_minor": 1
}

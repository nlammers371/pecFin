{
 "cells": [
  {
   "cell_type": "markdown",
   "metadata": {},
   "source": [
    "# Notebook to experiment with ways to quantify pec fin morphology"
   ]
  },
  {
   "cell_type": "markdown",
   "metadata": {},
   "source": [
    "### Import packages"
   ]
  },
  {
   "cell_type": "code",
   "execution_count": 5,
   "metadata": {
    "pycharm": {
     "is_executing": true
    }
   },
   "outputs": [],
   "source": [
    "from ome_zarr.io import parse_url\n",
    "from ome_zarr.reader import Reader\n",
    "import napari\n",
    "import numpy as np\n",
    "from napari_animation import Animation\n",
    "import pandas as pd"
   ]
  },
  {
   "cell_type": "markdown",
   "metadata": {},
   "source": [
    "### Now, load an image dataset along with nucleus masks inferred using cellpose."
   ]
  },
  {
   "cell_type": "code",
   "execution_count": null,
   "metadata": {
    "pycharm": {
     "is_executing": true
    }
   },
   "outputs": [],
   "source": [
    "import warnings\n",
    "warnings.filterwarnings(\"ignore\")\n",
    "\n",
    "# set parameters\n",
    "filename = \"2022_12_15 HCR Hand2 Tbx5a Fgf10a_1\"\n",
    "readPath = \"/Users/nick/Dropbox (Cole Trapnell's Lab)/Nick/pecFin/HCR_Data/built_zarr_files/\" + filename '_nucleus_props.csv'\n",
    "\n",
    "image_df = pd.read_csv(readPath)\n"
   ]
  },
  {
   "cell_type": "code",
   "execution_count": null,
   "metadata": {
    "pycharm": {
     "is_executing": true
    }
   },
   "outputs": [],
   "source": [
    "import plotly.graph_objects as go\n",
    "\n",
    "fig = go.Figure(data=[go.Mesh3d(x=image_df[\"X\"], y=image_df[\"Y\"], z=image_df[\"Z\"],\n",
    "                   alphahull=3,\n",
    "                   opacity=0.8,\n",
    "                   color='cyan')])\n",
    "fig.show()"
   ]
  },
  {
   "cell_type": "code",
   "execution_count": null,
   "metadata": {
    "pycharm": {
     "is_executing": true
    }
   },
   "outputs": [],
   "source": [
    "from scipy.spatial import Delaunay\n",
    "import numpy as np\n",
    "from collections import defaultdict\n",
    "\n",
    "pos = coords\n",
    "alpha = 3\n",
    "\n",
    "\"\"\"\n",
    "Compute the alpha shape (concave hull) of a set of 3D points.\n",
    "Parameters:\n",
    "    pos - np.array of shape (n,3) points.\n",
    "    alpha - alpha value.\n",
    "return\n",
    "    outer surface vertex indices, edge indices, and triangle indices\n",
    "\"\"\"\n",
    "\n",
    "tetra = Delaunay(pos)\n",
    "# Find radius of the circumsphere.\n",
    "# By definition, radius of the sphere fitting inside the tetrahedral needs \n",
    "# to be smaller than alpha value\n",
    "# http://mathworld.wolfram.com/Circumsphere.html\n",
    "tetrapos = np.take(pos,tetra.vertices,axis=0)\n",
    "normsq = np.sum(tetrapos**2,axis=2)[:,:,None]\n",
    "ones = np.ones((tetrapos.shape[0],tetrapos.shape[1],1))\n",
    "a = np.linalg.det(np.concatenate((tetrapos,ones),axis=2))\n",
    "Dx = np.linalg.det(np.concatenate((normsq,tetrapos[:,:,[1,2]],ones),axis=2))\n",
    "Dy = -np.linalg.det(np.concatenate((normsq,tetrapos[:,:,[0,2]],ones),axis=2))\n",
    "Dz = np.linalg.det(np.concatenate((normsq,tetrapos[:,:,[0,1]],ones),axis=2))\n",
    "c = np.linalg.det(np.concatenate((normsq,tetrapos),axis=2))\n",
    "r = np.sqrt(Dx**2+Dy**2+Dz**2-4*a*c)/(2*np.abs(a))\n",
    "\n",
    "# Find tetrahedrals\n",
    "tetras = tetra.vertices[r<alpha,:]\n",
    "# triangles\n",
    "TriComb = np.array([(0, 1, 2), (0, 1, 3), (0, 2, 3), (1, 2, 3)])\n",
    "Triangles = tetras[:,TriComb].reshape(-1,3)\n",
    "Triangles = np.sort(Triangles,axis=1)\n",
    "# Remove triangles that occurs twice, because they are within shapes\n",
    "TrianglesDict = defaultdict(int)\n",
    "for tri in Triangles:TrianglesDict[tuple(tri)] += 1\n",
    "Triangles=np.array([tri for tri in TrianglesDict if TrianglesDict[tri] ==1])\n",
    "#edges\n",
    "EdgeComb=np.array([(0, 1), (0, 2), (1, 2)])\n",
    "Edges=Triangles[:,EdgeComb].reshape(-1,2)\n",
    "Edges=np.sort(Edges,axis=1)\n",
    "Edges=np.unique(Edges,axis=0)"
   ]
  },
  {
   "cell_type": "code",
   "execution_count": null,
   "metadata": {
    "pycharm": {
     "is_executing": true
    }
   },
   "outputs": [],
   "source": [
    "import math\n",
    "import plotly.graph_objects as go\n",
    "from plotly.offline import iplot, init_notebook_mode\n",
    "from plotly.graph_objs import Mesh3d\n",
    "import numpy as np\n",
    "\n",
    "axis_lengths = np.array([11.89184616,  4.82438505,  1.49761732])\n",
    "\n",
    "a = axis_lengths[2]\n",
    "b = axis_lengths[1]\n",
    "c = axis_lengths[0]\n",
    "\n",
    "pi = math.pi\n",
    "phi = np.linspace(0, 2*pi)\n",
    "theta = np.linspace(-pi/2, pi/2)\n",
    "phi, theta=np.meshgrid(phi, theta)\n",
    "x = np.cos(theta) * np.sin(phi) * a\n",
    "y = np.cos(theta) * np.cos(phi) * b\n",
    "z = np.sin(theta) * c\n",
    "\n",
    "# define a transformation matrix\n",
    "R = np.array([[-0.23933507, -0.90749994,  0.34519933],\n",
    "               [ 0.15574894,  0.31504453,  0.93621003],\n",
    "               [ 0.95836371, -0.27783232, -0.06594095]])\n",
    "T = np.zeros((4,4))\n",
    "C = np.array([ 4.47448559, 192.68796498, 138.36717904])\n",
    "T[0:3,0:3] = R\n",
    "T[3,3] = 1\n",
    "T[0:3, 3] = C\n",
    "\n",
    "x=x.flatten() \n",
    "y=y.flatten() \n",
    "z=z.flatten()\n",
    "\n",
    "xtf = []\n",
    "ytf = []\n",
    "ztf = []\n",
    "\n",
    "for i in range(len(x)):\n",
    "    xyz = np.array([z[i], y[i], x[i], 1]).reshape(4,1)\n",
    "    xyz_tf = np.matmul(T,xyz)\n",
    "    xyz_tf.flatten()\n",
    "    xtf.append(xyz_tf[2][0])\n",
    "    ytf.append(xyz_tf[1][0])\n",
    "    ztf.append(xyz_tf[0][0])    \n",
    "\n",
    "fig = go.Figure(data=[go.Mesh3d(x=xtf,\n",
    "                                y=ytf,\n",
    "                                z=ztf,\n",
    "                                alphahull=0)])\n",
    "\n",
    "# fig.update_layout(\n",
    "#     scene = dict(\n",
    "#         xaxis = dict(nticks=4, range=[-30,30]+C[0],),\n",
    "#                      yaxis = dict(nticks=4, range=[-30,30]+C[1],),\n",
    "#                      zaxis = dict(nticks=4, range=[-30,30]+C[2],),))\n",
    "\n",
    "fig.show()\n"
   ]
  },
  {
   "cell_type": "code",
   "execution_count": null,
   "metadata": {
    "pycharm": {
     "is_executing": true
    }
   },
   "outputs": [],
   "source": []
  },
  {
   "cell_type": "code",
   "execution_count": null,
   "metadata": {
    "pycharm": {
     "is_executing": true
    }
   },
   "outputs": [],
   "source": []
  }
 ],
 "metadata": {
  "kernelspec": {
   "display_name": "Python 3 (ipykernel)",
   "language": "python",
   "name": "python3"
  },
  "language_info": {
   "codemirror_mode": {
    "name": "ipython",
    "version": 3
   },
   "file_extension": ".py",
   "mimetype": "text/x-python",
   "name": "python",
   "nbconvert_exporter": "python",
   "pygments_lexer": "ipython3",
   "version": "3.10.8"
  }
 },
 "nbformat": 4,
 "nbformat_minor": 1
}

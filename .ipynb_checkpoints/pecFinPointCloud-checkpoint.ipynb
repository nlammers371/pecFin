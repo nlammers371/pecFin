{
 "cells": [
  {
   "cell_type": "markdown",
   "metadata": {},
   "source": [
    "## Attempt automatic fin segmentation using plane fitting"
   ]
  },
  {
   "cell_type": "code",
   "execution_count": 2,
   "metadata": {
    "pycharm": {
     "is_executing": true
    }
   },
   "outputs": [
    {
     "ename": "SyntaxError",
     "evalue": "invalid syntax (3753675830.py, line 7)",
     "output_type": "error",
     "traceback": [
      "\u001B[0;36m  Cell \u001B[0;32mIn[2], line 7\u001B[0;36m\u001B[0m\n\u001B[0;31m    import numpy as np as plt\u001B[0m\n\u001B[0m                       ^\u001B[0m\n\u001B[0;31mSyntaxError\u001B[0m\u001B[0;31m:\u001B[0m invalid syntax\n"
     ]
    }
   ],
   "source": [
    "from ome_zarr.io import parse_url\n",
    "from ome_zarr.reader import Reader\n",
    "import napari\n",
    "import numpy as np\n",
    "from napari_animation import Animation\n",
    "import random\n",
    "import numpy as np as plt\n",
    "from mpl_toolkits import mplot3d\n",
    "\n",
    "import plotly.express as px\n",
    "#%% md\n",
    "### Now, load an image dataset along with nucleus masks inferred using cellpose.\n",
    "#%%\n",
    "import warnings\n",
    "warnings.filterwarnings(\"ignore\")\n",
    "\n",
    "# set parameters\n",
    "filename = \"2022_12_22 HCR Sox9a Tbx5a Emilin3a_1.zarr\"\n",
    "readPath = \"/Users/nick/Dropbox (Cole Trapnell's Lab)/Nick/pecFin/HCR_Data/built_zarr_files_small/\" + filename\n",
    "readPathLabels = \"/Users/nick/Dropbox (Cole Trapnell's Lab)/Nick/pecFin/HCR_Data/built_zarr_files_small/\" + filename + \"labels\"\n",
    "level = 1\n",
    "\n",
    "#############\n",
    "# Main image\n",
    "#############\n",
    "\n",
    "# read the image data\n",
    "store = parse_url(readPath, mode=\"r\").store\n",
    "reader = Reader(parse_url(readPath))\n",
    "\n",
    "# nodes may include images, labels etc\n",
    "nodes = list(reader())\n",
    "\n",
    "# first node will be the image pixel data\n",
    "image_node = nodes[0]\n",
    "image_data = image_node.data\n",
    "\n",
    "#############\n",
    "# Labels\n",
    "#############\n",
    "\n",
    "# read the image data\n",
    "store_lb = parse_url(readPathLabels, mode=\"r\").store\n",
    "reader_lb = Reader(parse_url(readPathLabels))\n",
    "\n",
    "# nodes may include images, labels etc\n",
    "nodes_lb = list(reader_lb())\n",
    "\n",
    "# first node will be the image pixel data\n",
    "label_node = nodes_lb[1]\n",
    "label_data = label_node.data\n",
    "\n",
    "# extract key image attributes\n",
    "omero_attrs = image_node.root.zarr.root_attrs['omero']\n",
    "channel_metadata = omero_attrs['channels']  # list of channels and relevant info\n",
    "multiscale_attrs = image_node.root.zarr.root_attrs['multiscales']\n",
    "axis_names = multiscale_attrs[0]['axes']\n",
    "dataset_info = multiscale_attrs[0]['datasets']  # list containing scale factors for each axis"
   ]
  },
  {
   "cell_type": "code",
   "execution_count": null,
   "metadata": {},
   "outputs": [],
   "source": []
  }
 ],
 "metadata": {
  "kernelspec": {
   "display_name": "Python 3 (ipykernel)",
   "language": "python",
   "name": "python3"
  },
  "language_info": {
   "codemirror_mode": {
    "name": "ipython",
    "version": 3
   },
   "file_extension": ".py",
   "mimetype": "text/x-python",
   "name": "python",
   "nbconvert_exporter": "python",
   "pygments_lexer": "ipython3",
   "version": "3.10.8"
  }
 },
 "nbformat": 4,
 "nbformat_minor": 1
}

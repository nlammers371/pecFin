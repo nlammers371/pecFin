{
 "cells": [
  {
   "cell_type": "markdown",
   "metadata": {},
   "source": [
    "# Notebook to experiment with ways to quantify pec fin morphology"
   ]
  },
  {
   "cell_type": "markdown",
   "metadata": {},
   "source": [
    "### Import packages"
   ]
  },
  {
   "cell_type": "code",
   "execution_count": 29,
   "metadata": {},
   "outputs": [],
   "source": [
    "import numpy as np\n",
    "from napari_animation import Animation\n",
    "import pandas as pd\n",
    "\n",
    "# set parameters\n",
    "filename = \"2022_12_15 HCR Hand2 Tbx5a Fgf10a_3\"\n",
    "readPath = \"/Users/nick/Dropbox (Cole Trapnell's Lab)/Nick/pecFin/HCR_Data/built_zarr_files/\" + filename + '_nucleus_props.csv'\n",
    "\n",
    "image_df = pd.read_csv(readPath, index_col=0)\n"
   ]
  },
  {
   "cell_type": "markdown",
   "metadata": {},
   "source": [
    "### Now, load an image dataset along with nucleus masks inferred using cellpose."
   ]
  },
  {
   "cell_type": "code",
   "execution_count": null,
   "metadata": {
    "pycharm": {
     "is_executing": true
    }
   },
   "outputs": [],
   "source": [
    "#import open3d as o3d\n",
    "import plotly.express as px\n",
    "import plotly.graph_objects as go\n",
    "from sklearn.cluster import KMeans, DBSCAN, OPTICS\n",
    "import matplotlib.pyplot as plt\n",
    "from sklearn.preprocessing import StandardScaler\n",
    "\n",
    "# pcd = o3d.geometry.PointCloud()\n",
    "# pcd.points = o3d.utility.Vector3dVector(np.asarray(image_df.iloc[:, 0:3]))\n",
    "# Get points and transform it to a numpy array:\n",
    "points = np.asarray(image_df.iloc[np.where(image_df[\"pec_fin_flag\"]==1), 0:3]).copy()\n",
    "\n",
    "# convert to point cloud"
   ]
  },
  {
   "cell_type": "markdown",
   "metadata": {},
   "source": [
    "## Let's see what the raw data look like"
   ]
  },
  {
   "cell_type": "code",
   "execution_count": null,
   "metadata": {
    "pycharm": {
     "is_executing": true
    }
   },
   "outputs": [],
   "source": [
    "r_vec = np.sqrt(image_df[\"X\"]**2 + image_df[\"Y\"]**2 + image_df[\"Z\"]**2)\n",
    "\n",
    "px.scatter_3d(image_df, x=\"X\", y=\"Y\", z=\"Z\",opacity=0.5,color_continuous_scale=\"ice\",color=\"Z\",template=\"ggplot2\")\n"
   ]
  },
  {
   "cell_type": "markdown",
   "metadata": {},
   "source": [
    "#### Use Z to filter for points that lie on yolk surface (crude, but we will do better in future)"
   ]
  },
  {
   "cell_type": "code",
   "execution_count": null,
   "metadata": {
    "pycharm": {
     "is_executing": true
    }
   },
   "outputs": [],
   "source": [
    "z_filter = np.where((~image_df[\"pec_fin_flag\"]) & (image_df[\"Z\"]<=35))\n",
    "\n",
    "image_df_z = image_df.iloc[z_filter].copy()\n",
    "\n",
    "px.scatter_3d(image_df_z, x=\"X\", y=\"Y\", z=\"Z\",opacity=0.5,color_continuous_scale=\"ice\",\n",
    "              template=\"ggplot2\")"
   ]
  },
  {
   "cell_type": "markdown",
   "metadata": {},
   "source": [
    "### Fit sphere"
   ]
  },
  {
   "cell_type": "code",
   "execution_count": null,
   "metadata": {
    "pycharm": {
     "is_executing": true
    }
   },
   "outputs": [],
   "source": [
    "# define a function to fit a sphere to points\n",
    "import math\n",
    "def sphereFit(spX,spY,spZ):\n",
    "    #   Assemble the A matrix\n",
    "    spX = np.array(spX)\n",
    "    spY = np.array(spY)\n",
    "    spZ = np.array(spZ)\n",
    "    A = np.zeros((len(spX),4))\n",
    "    A[:,0] = spX*2\n",
    "    A[:,1] = spY*2\n",
    "    A[:,2] = spZ*2\n",
    "    A[:,3] = 1\n",
    "\n",
    "    #   Assemble the f matrix\n",
    "    f = np.zeros((len(spX),1))\n",
    "    f[:,0] = (spX*spX) + (spY*spY) + (spZ*spZ)\n",
    "    C, residules, rank, singval = np.linalg.lstsq(A,f)\n",
    "\n",
    "    #   solve for the radius\n",
    "    t = (C[0]*C[0])+(C[1]*C[1])+(C[2]*C[2])+C[3]\n",
    "    radius = math.sqrt(t)\n",
    "\n",
    "    return radius, C[0], C[1], C[2]"
   ]
  },
  {
   "cell_type": "code",
   "execution_count": null,
   "metadata": {
    "pycharm": {
     "is_executing": true
    },
    "scrolled": true
   },
   "outputs": [],
   "source": [
    "r, x0, y0, z0 = sphereFit(image_df_z[\"X\"], image_df_z[\"Y\"], image_df_z[\"Z\"])\n",
    "u, v = np.mgrid[0:2*np.pi:200j, 0:np.pi:100j]\n",
    "x=np.cos(u)*np.sin(v)*r\n",
    "y=np.sin(u)*np.sin(v)*r\n",
    "z=np.cos(v)*r\n",
    "x = x + x0\n",
    "y = y + y0\n",
    "z = z + z0\n",
    "\n",
    "p_filter = np.where(image_df[\"pec_fin_flag\"])\n",
    "# plot result\n",
    "fig = go.Figure(data=[go.Surface(x=x, y=y, z=z, opacity=0.8)])\n",
    "\n",
    "# fig = px.scatter_3d(x=XX, y=YY, z=ZZ,opacity=0.5)\n",
    "\n",
    "fig.update_layout(\n",
    "    scene = dict(zaxis = dict(nticks=10, range=[0,100]), xaxis = dict(nticks=10, range=[0,200]), \n",
    "                 yaxis = dict(nticks=10, range=[40,160])))\n",
    "\n",
    "fig.add_trace(go.Scatter3d(x=image_df[\"X\"].iloc[p_filter], y=image_df[\"Y\"].iloc[p_filter], z=image_df[\"Z\"].iloc[p_filter], \n",
    "                           mode='markers', \n",
    "                           opacity=0.25))"
   ]
  },
  {
   "cell_type": "markdown",
   "metadata": {},
   "source": [
    "### Calculate distance from sphere surface"
   ]
  },
  {
   "cell_type": "code",
   "execution_count": null,
   "metadata": {
    "pycharm": {
     "is_executing": true
    }
   },
   "outputs": [],
   "source": [
    "from scipy.spatial import distance_matrix\n",
    "from sklearn.neighbors import KDTree\n",
    "\n",
    "# calculate approximate distance to surface\n",
    "sphere_surf_array = np.asarray(np.concatenate((np.reshape(list(x.flatten()), (x.size, 1)), np.reshape(list(y.flatten()), (y.size, 1)),\n",
    "                                               np.reshape(list(z.flatten()), (z.size, 1))), axis=1))\n",
    "\n",
    "image_df_fin = image_df.iloc[p_filter]\n",
    "dist_array = distance_matrix(image_df_fin[[\"X\", \"Y\", \"Z\"]], sphere_surf_array)\n",
    "min_distance = np.min(dist_array, axis=1)\n",
    "min_indices = np.argmin(dist_array, axis=1)\n",
    "\n",
    "# use NN distances between nuclei to set the scale for points that are \"close\" to surface\n",
    "dist_ref_k = 2 \n",
    "tree = KDTree(image_df_fin[[\"X\", \"Y\", \"Z\"]], leaf_size=2)\n",
    "nearest_dist, nearest_ind = tree.query(image_df_fin[[\"X\", \"Y\", \"Z\"]], k=dist_ref_k+1)\n",
    "mean_nn_dist_vec = np.mean(nearest_dist, axis=0)\n",
    "nn_thresh = mean_nn_dist_vec[dist_ref_k]\n",
    "\n",
    "# plot the results\n",
    "surf_filter = min_distance <= nn_thresh\n",
    "\n",
    "fig = go.Figure(data=[go.Surface(x=x, y=y, z=z, opacity=0.8)])\n",
    "\n",
    "# fig = px.scatter_3d(x=XX, y=YY, z=ZZ,opacity=0.5)\n",
    "\n",
    "fig.update_layout(\n",
    "    scene = dict(zaxis = dict(nticks=10, range=[0,100]), xaxis = dict(nticks=10, range=[0,200]), \n",
    "                 yaxis = dict(nticks=10, range=[40,160])))\n",
    "\n",
    "fig.add_trace(go.Scatter3d(x=image_df_fin[\"X\"].iloc[surf_filter], \n",
    "                           y=image_df_fin[\"Y\"].iloc[surf_filter], \n",
    "                           z=image_df_fin[\"Z\"].iloc[surf_filter], \n",
    "                           mode='markers', \n",
    "                           opacity=0.25))"
   ]
  },
  {
   "cell_type": "markdown",
   "metadata": {},
   "source": [
    "**That looks reasonable!** Let's see if I can iteratively search for the centroid of these surface points. Following closely along with the approach outlined in this post: https://skeptric.com/calculate-centroid-on-sphere/\n"
   ]
  },
  {
   "cell_type": "code",
   "execution_count": null,
   "metadata": {
    "pycharm": {
     "is_executing": true
    }
   },
   "outputs": [],
   "source": [
    "import scipy\n",
    "\n",
    "def cart2sph(x,y,z):\n",
    "    XsqPlusYsq = x**2 + y**2\n",
    "    r = m.sqrt(XsqPlusYsq + z**2)               # r\n",
    "    elev = m.atan2(z,m.sqrt(XsqPlusYsq))     # theta\n",
    "    az = m.atan2(y,x)                           # phi\n",
    "    return r, elev, az\n",
    "\n",
    "def cart2sphA(pts):\n",
    "    return np.array([cart2sph(x,y,z) for x,y,z in pts])\n",
    "\n",
    "# define some useful functions\n",
    "def geodist(x, y, eps=1e-6):\n",
    "    dotprod = y.T @ x\n",
    "    assert ((-1 - eps) <= dotprod).all() and (dotprod <= (1 + eps)).all()\n",
    "    dotprod = dotprod.clip(-1, 1)\n",
    "    return np.arccos(dotprod)\n",
    "\n",
    "def coord_to_latlon(x, y, z, r):\n",
    "    assert np.all(np.abs((x*x +y*y +z*z) - r*r) < 1e-5)\n",
    "    lat = np.arcsin(z/r)\n",
    "    lon = np.arctan2(y/r, x/r)\n",
    "    out = np.array([lat, lon])\n",
    "    return out.T\n",
    "\n",
    "# get list of each nucleus's nearest point on the sphere's surface\n",
    "sphere_nn_xyz = sphere_surf_array[min_indices[surf_filter], :]\n",
    "\n",
    "# note that we must center and normalize array for this calculation to work\n",
    "sphere_nn_xyz_centered = sphere_nn_xyz - np.reshape(np.asarray([x0, y0, z0]), (1, 3))\n",
    "\n",
    "# convert to lat/lon notation\n",
    "lat_lon_array = coord_to_latlon(sphere_nn_xyz_centered[:, 0],\n",
    "                                sphere_nn_xyz_centered[:, 1],\n",
    "                                sphere_nn_xyz_centered[:, 2],\n",
    "                                r)\n",
    "\n",
    "def latlon_geodist(llarray1, llarray2, eps = 1e-6):\n",
    "\n",
    "    lat1 = llarray1[0]\n",
    "    lon1 = llarray1[1]\n",
    "    \n",
    "    lat2 = llarray2[0]\n",
    "    lon2 = llarray2[1]\n",
    "    \n",
    "    dotprod = np.sin(lat1) * np.sin(lat2) + np.cos(lat1) * np.cos(lat2) * np.cos(lon2 - lon1)\n",
    "    assert ((-1 - eps) <= dotprod).all() and (dotprod <= (1 + eps)).all()\n",
    "    dotprod = dotprod.clip(-1, 1)\n",
    "    return np.arccos(dotprod)\n",
    "\n",
    "def latlon_total_dist(point, ll_array=lat_lon_array):\n",
    "    dist_list = np.array([latlon_geodist(point, ll_array[i, :]) for i in range(ll_array.shape[0])])\n",
    "    return dist_list**2\n",
    "\n",
    "# now let's find the point that minimizes latlon distances\n",
    "start_i = np.random.randint(0, lat_lon_array.shape[0], 1)[0]\n",
    "start_point = lat_lon_array[start_i, :]\n",
    "\n",
    "print(np.mean(lat_lon_array, axis=0))\n",
    "\n",
    "test = scipy.optimize.least_squares(latlon_total_dist, np.array(start_point))\n",
    "\n",
    "print(test.x)\n",
    "# print(np.mean(lat_lon_array, axis=0))\n",
    "\n",
    "# convert solution back to xyz\n",
    "def latlon_to_coord(lat, lon):\n",
    "    return np.array([np.cos(lat) * np.cos(lon), np.cos(lat)*np.sin(lon), np.sin(lat)])\n",
    "\n",
    "xyz_sol_norm = latlon_to_coord(test.x[0], test.x[1])\n",
    "center_vec = np.asarray([x0, y0, z0]).T\n",
    "xyz_sol = xyz_sol_norm.T * r + center_vec\n",
    "print(xyz_sol_norm)\n",
    "\n",
    "fig = go.Figure(data=[go.Surface(x=x, y=y, z=z, opacity=0.5)])\n",
    "\n",
    "# fig = px.scatter_3d(x=XX, y=YY, z=ZZ, opacity=0.5)\n",
    "\n",
    "# fig.update_layout(\n",
    "#     scene = dict(zaxis = dict(nticks=10, range=[0,100]), xaxis = dict(nticks=10, range=[0,200]), \n",
    "#                  yaxis = dict(nticks=10, range=[40,160])))\n",
    "\n",
    "fig.add_trace(go.Scatter3d(x=image_df_fin[\"X\"].iloc[surf_filter], \n",
    "                           y=image_df_fin[\"Y\"].iloc[surf_filter], \n",
    "                           z=image_df_fin[\"Z\"].iloc[surf_filter], \n",
    "                           mode='markers', \n",
    "                           opacity=0.25))\n",
    "\n",
    "fig.add_trace(go.Scatter3d(x=[xyz_sol[0,0]], \n",
    "                           y=[xyz_sol[0,1]], \n",
    "                           z=[xyz_sol[0,2]], \n",
    "                           mode='markers', \n",
    "                           opacity=1))\n"
   ]
  },
  {
   "cell_type": "markdown",
   "metadata": {},
   "source": [
    "### Nice! Now plot normal vector implied by this fit alongside full pec fin"
   ]
  },
  {
   "cell_type": "code",
   "execution_count": null,
   "metadata": {
    "pycharm": {
     "is_executing": true
    }
   },
   "outputs": [],
   "source": [
    "norm_array = np.concatenate((xyz_sol, 1.5*(xyz_sol-center_vec)+center_vec), axis=0)\n",
    "\n",
    "fig = go.Figure(data=[go.Surface(x=x, y=y, z=z, opacity=0.3)])\n",
    "\n",
    "\n",
    "# fig.update_layout(\n",
    "#     scene = dict(zaxis = dict(nticks=10, range=[0,100]), xaxis = dict(nticks=10, range=[0,200]), \n",
    "#                  yaxis = dict(nticks=10, range=[40,160])))\n",
    "\n",
    "fig.add_trace(go.Scatter3d(x=image_df_fin[\"X\"], \n",
    "                           y=image_df_fin[\"Y\"], \n",
    "                           z=image_df_fin[\"Z\"], \n",
    "                           mode='markers', \n",
    "                           opacity=0.05))\n",
    "\n",
    "fig.add_trace(go.Scatter3d(x=norm_array[:, 0], \n",
    "                           y=norm_array[:, 1], \n",
    "                           z=norm_array[:, 2], \n",
    "                           mode='lines', \n",
    "                           opacity=1))\n",
    "\n",
    "fig.add_trace(go.Scatter3d(x=[xyz_sol[0,0]], \n",
    "                           y=[xyz_sol[0,1]], \n",
    "                           z=[xyz_sol[0,2]], \n",
    "                           mode='markers', \n",
    "                           opacity=1))"
   ]
  },
  {
   "cell_type": "markdown",
   "metadata": {
    "pycharm": {
     "is_executing": true
    }
   },
   "source": [
    "## Can we build off of this procedure to infer an approximate PD axis?\n",
    "First, let's use the normal axis inferred in the previous step to divide the fin up into N cross-sections"
   ]
  },
  {
   "cell_type": "code",
   "execution_count": null,
   "metadata": {
    "pycharm": {
     "is_executing": true
    }
   },
   "outputs": [],
   "source": [
    "# start by finding the point below the centroid on the surface of the sphere\n",
    "normal_vector = norm_array[1, :] - norm_array[0, :]\n",
    "normal_vector_u = normal_vector / np.sqrt(np.sum(normal_vector**2))\n",
    "normal_vector_u = normal_vector_u\n",
    "surf_point = xyz_sol\n",
    "\n",
    "# generate numpy array \n",
    "xyz_array = np.asarray(image_df_fin[[\"X\", \"Y\", \"Z\"]])\n",
    "\n",
    "# solve for initial D value\n",
    "d_surf = -(np.dot(normal_vector_u, surf_point.T))\n",
    "\n",
    "# calulate how many points are below plane\n",
    "ab_signs = np.matmul(normal_vector_u, xyz_array.T) + d_surf\n",
    "\n",
    "# calculate the maximum d value\n",
    "d_vec = -np.matmul(normal_vector_u, xyz_array.T)\n",
    "d_top = np.min(d_vec)\n",
    "d_bottom = np.max(d_vec)\n",
    "\n",
    "# check that everything is contained\n",
    "ab_signs2 = np.matmul(normal_vector_u, xyz_array.T) + d_top\n",
    "print(np.mean(ab_signs2<=0))\n",
    "\n",
    "# divide nuclei into N slices\n",
    "n_slices = 8\n",
    "d_increments = np.linspace(d_surf, d_top, n_slices)\n",
    "d_increments = np.insert(d_increments, 0, d_bottom)\n",
    "slice_ids = []\n",
    "for n in range(n_slices):\n",
    "    d_start = d_increments[n]\n",
    "    d_stop = d_increments[n+1]\n",
    "    slice_ids.append(np.where((d_vec>(d_stop)) & (d_vec<=(d_start))))\n",
    "    \n",
    "\n",
    "fig = go.Figure(data=[go.Surface(x=x, y=y, z=z, opacity=0.3)])\n",
    "\n",
    "\n",
    "fig.update_layout(\n",
    "    scene = dict(zaxis = dict(nticks=10, range=[0,100]), xaxis = dict(nticks=10, range=[0,200]), \n",
    "                 yaxis = dict(nticks=10, range=[40,160])))\n",
    "\n",
    "for n in range(n_slices):\n",
    "\n",
    "    fig.add_trace(go.Scatter3d(x=image_df_fin[\"X\"].iloc[slice_ids[n]], \n",
    "                               y=image_df_fin[\"Y\"].iloc[slice_ids[n]], \n",
    "                               z=image_df_fin[\"Z\"].iloc[slice_ids[n]], \n",
    "                               mode='markers', \n",
    "                               opacity=1))\n",
    "\n",
    "fig.update_layout(showlegend=False)\n",
    "\n",
    "fig.show()"
   ]
  },
  {
   "cell_type": "markdown",
   "metadata": {},
   "source": [
    "**This looks reasonably promising.**\n",
    "Let's calculate centroids for each slice. These can then serve as the basis for defining an approximate axis. From there, the hope is to iteratively update slices and centroids "
   ]
  },
  {
   "cell_type": "code",
   "execution_count": null,
   "metadata": {
    "pycharm": {
     "is_executing": true
    }
   },
   "outputs": [],
   "source": [
    "centroid_array = np.empty((n_slices+1, 3))\n",
    "for n in range(n_slices):\n",
    "    centroid_array[n, :] = np.mean(xyz_array[slice_ids[n]], axis=0)\n",
    "    \n",
    "# find point that is farthest from base and call this the tip (for now)\n",
    "dist_vec = np.sqrt(np.sum((xyz_array - xyz_sol)**2, axis=1))\n",
    "low_indices = np.where(d_vec<=0.75*d_top)\n",
    "dist_vec[low_indices] = 0\n",
    "d_top_i = np.argmax(dist_vec)\n",
    "centroid_array[-1, :] = xyz_array[d_top_i, :]\n",
    "\n",
    "# plot centroids\n",
    "fig = go.Figure(data=[go.Surface(x=x, y=y, z=z, opacity=0.3)])\n",
    "\n",
    "\n",
    "fig.update_layout(\n",
    "    scene = dict(zaxis = dict(nticks=10, range=[0,100]), xaxis = dict(nticks=10, range=[-20,200]), \n",
    "                 yaxis = dict(nticks=10, range=[40,200])))\n",
    "    \n",
    "fig.add_trace(go.Scatter3d(x=centroid_array[:, 0], \n",
    "                           y=centroid_array[:, 1], \n",
    "                           z=centroid_array[:, 2], \n",
    "                           mode='lines', \n",
    "                           opacity=1))\n",
    "\n",
    "fig.add_trace(go.Scatter3d(x=centroid_array[:, 0], \n",
    "                           y=centroid_array[:, 1], \n",
    "                           z=centroid_array[:, 2], \n",
    "                           mode='markers', \n",
    "                           opacity=1))\n",
    "\n",
    "fig.add_trace(go.Mesh3d(x=xyz_array[:, 0], y=xyz_array[:, 1], z=xyz_array[:, 2],\n",
    "                                    alphahull=9,\n",
    "                                    opacity=0.1,\n",
    "                                    color='gray'))\n",
    "\n",
    "fig.show()"
   ]
  },
  {
   "cell_type": "markdown",
   "metadata": {},
   "source": [
    "**Calculate direction of PCA for each slice.** I will take this to be the approximate AP direction. Along each of these AP axes, perform a similar procedure to above--find centroid of each little \"chunk\""
   ]
  },
  {
   "cell_type": "code",
   "execution_count": null,
   "metadata": {
    "pycharm": {
     "is_executing": true
    }
   },
   "outputs": [],
   "source": [
    "n_slices_ap = 5\n",
    "ap_slice_master = []\n",
    "slice_centroid_array = np.empty((n_slices, 3, n_slices_ap))\n",
    "\n",
    "# calculate approximate A-P axis\n",
    "ap_array = np.empty((n_slices, 3))\n",
    "\n",
    "for n in range(n_slices):\n",
    "    datapoints = xyz_array[slice_ids[n]]\n",
    "\n",
    "    # Do an SVD on the mean-centered data.\n",
    "    datamean = np.mean(datapoints, axis=0)\n",
    "    uu, dd, vv = np.linalg.svd(datapoints - datamean)\n",
    "\n",
    "    ap_array[n, :] = vv[0]\n",
    "    \n",
    "    \n",
    "ap_axis_mean = np.mean(ap_array, axis=0)\n",
    "ap_axis_mean = ap_axis_mean / np.linalg.norm(ap_axis_mean)\n",
    "\n",
    "for n in range(n_slices):\n",
    "\n",
    "    # Now vv[0] contains the first principal component, i.e. the direction\n",
    "    # vector of the 'best fit' line in the least squares sense.\n",
    "    # print(vv[0])\n",
    "    datapoints = xyz_array[slice_ids[n]]\n",
    "    \n",
    "    # calculate the min and maximum d value\n",
    "    d_vec_ap = -np.matmul(ap_axis_mean, datapoints.T)\n",
    "    \n",
    "    d_a = np.min(d_vec_ap)\n",
    "    d_p = np.max(d_vec_ap)\n",
    "\n",
    "    d_inc_ap = np.linspace(d_a, d_p, n_slices_ap+1)\n",
    "\n",
    "    ap_slice_ids = []\n",
    "    bins = np.digitize(d_vec_ap, d_inc_ap)\n",
    "    for m in range(n_slices_ap):\n",
    "        # add points\n",
    "        ap_slice_ids.append(np.where(bins == m+1))\n",
    "\n",
    "        # calculate centroid\n",
    "        centroid_temp = np.mean(datapoints[ap_slice_ids[m]], axis=0)\n",
    "        slice_centroid_array[n, :, m] = centroid_temp\n",
    "        \n",
    "    ap_slice_master.append(ap_slice_ids)\n",
    "\n",
    "  \n",
    "\n",
    "fig = px.scatter_3d(image_df_fin, \n",
    "                    x=\"X\", y=\"Y\", z=\"Z\",\n",
    "                    opacity=0.1,\n",
    "                    template=\"ggplot2\")\n",
    "\n",
    "# fig.add_trace(go.Scatter3d(x=datapoints[:, 0], \n",
    "#                                y=datapoints[:, 1], \n",
    "#                                z=datapoints[:, 2], \n",
    "#                                mode='markers', \n",
    "#                                opacity=1))\n",
    "\n",
    "x_vec = slice_centroid_array[:-1, 0, :].flatten()\n",
    "y_vec = slice_centroid_array[:-1, 1, :].flatten()\n",
    "z_vec = slice_centroid_array[:-1, 2, :].flatten()\n",
    "\n",
    "# add tip point\n",
    "x_vec = np.append(x_vec, xyz_array[d_top_i, 0])\n",
    "y_vec = np.append(y_vec, xyz_array[d_top_i, 1])\n",
    "z_vec = np.append(z_vec, xyz_array[d_top_i, 2])\n",
    "\n",
    "for n in range(n_slices):\n",
    "#     x_vec.append(slice_centroid_array[n, 0, :].flatten())\n",
    "#     y_vec.append(slice_centroid_array[n, 1, :].flatten())\n",
    "#     z_vec.append(slice_centroid_array[n, 0, :].flatten())\n",
    "    \n",
    "    fig.add_trace(go.Scatter3d(x=slice_centroid_array[n, 0, :].flatten(), \n",
    "                               y=slice_centroid_array[n, 1, :].flatten(), \n",
    "                               z=slice_centroid_array[n, 2, :].flatten(), \n",
    "                               mode='markers', \n",
    "                               opacity=1))\n",
    "\n",
    "fig.add_trace(go.Scatter3d(x=[x_vec[-1]], \n",
    "                           y=[y_vec[-1]], \n",
    "                           z=[z_vec[-1]], \n",
    "                           mode='markers', \n",
    "                           opacity=1))\n",
    "\n",
    "# fig.add_trace(go.Scatter3d(x=linepts[:, 0], \n",
    "#                            y=linepts[:, 1], \n",
    "#                            z=linepts[:, 2], \n",
    "#                            mode='lines', \n",
    "#                            opacity=1))\n",
    "\n",
    "fig.show()"
   ]
  },
  {
   "cell_type": "code",
   "execution_count": null,
   "metadata": {
    "pycharm": {
     "is_executing": true
    }
   },
   "outputs": [],
   "source": [
    "print(vv[0])\n",
    "print(slice_centroid_array[0, 0, :].flatten())\n",
    "print(slice_centroid_array[n, 0, :].flatten())"
   ]
  },
  {
   "cell_type": "markdown",
   "metadata": {},
   "source": [
    "**Not amazing, but it's a good start.** What does a fit to this look like?"
   ]
  },
  {
   "cell_type": "code",
   "execution_count": null,
   "metadata": {
    "pycharm": {
     "is_executing": true
    }
   },
   "outputs": [],
   "source": [
    "import pandas as pd\n",
    "import numpy as np\n",
    "import matplotlib.pyplot as plt\n",
    "from mpl_toolkits.mplot3d import axes3d\n",
    "import alphashape\n",
    "import scipy as sp\n",
    "import scipy.interpolate\n",
    "\n",
    "from sklearn.decomposition import PCA\n",
    "\n",
    "# Run The PCA\n",
    "pca = PCA(n_components=3)\n",
    "xyz_grid = np.concatenate((x_vec[:, np.newaxis], y_vec[:, np.newaxis], z_vec[:, np.newaxis]), axis=1)\n",
    "pca.fit(xyz_grid)\n",
    "pca_grid = pca.transform(xyz_grid)\n",
    "\n",
    "# transform all fin points\n",
    "pca_array_full = pca.transform(xyz_array)\n",
    "\n",
    "# fit spline in spca space\n",
    "pca_spline = sp.interpolate.Rbf(pca_grid[:, 0], pca_grid[:, 1], pca_grid[:, 2],\n",
    "                            function='linear', smooth=1)\n",
    "\n",
    "grid_res = 100\n",
    "P0, P1 = np.meshgrid(np.linspace(np.min(pca_array_full[:,0]), np.max(pca_array_full[:,0]), grid_res), \n",
    "                     np.linspace(np.min(pca_array_full[:,1]), np.max(pca_array_full[:,1]), grid_res))\n",
    "\n",
    "P2_spline = pca_spline(P0,P1)\n",
    "\n",
    "# fit quadratic surface, just for kicks\n",
    "A = np.c_[np.ones(pca_grid.shape[0]), pca_grid[:,:2], np.prod(pca_grid[:,:2], axis=1), pca_grid[:,:2]**2]\n",
    "C,_,_,_ = scipy.linalg.lstsq(A, pca_grid[:,2])\n",
    "    \n",
    "# evaluate it on a grid\n",
    "PP0 = P0.flatten()\n",
    "PP1 = P1.flatten()\n",
    "P2_curve = np.dot(np.c_[np.ones(PP0.shape), PP0, PP1, PP0*PP1, PP0**2, PP1**2], C).reshape(P0.shape)\n",
    "\n",
    "\n",
    "\n",
    "# transform the result back to xyz\n",
    "xyz_fit_spline = pca.inverse_transform(np.concatenate((np.reshape(P0, (P0.size, 1)), \n",
    "                                                np.reshape(P1, (P1.size, 1)), \n",
    "                                                np.reshape(P2_spline, (P2_spline.size, 1))), \n",
    "                                                axis=1)\n",
    "                               )\n",
    "\n",
    "xyz_fit_curve = pca.inverse_transform(np.concatenate((np.reshape(P0, (P0.size, 1)), \n",
    "                                                      np.reshape(P1, (P1.size, 1)), \n",
    "                                                      np.reshape(P2_curve, (P2_curve.size, 1))), \n",
    "                                                      axis=1)\n",
    "                               )\n",
    "\n",
    "X_fit = np.reshape(xyz_fit_curve[:, 0], (P0.shape))\n",
    "Y_fit = np.reshape(xyz_fit_curve[:, 1], (P1.shape))\n",
    "Z_fit_spline = np.reshape(xyz_fit_spline[:, 2], (P2_spline.shape))\n",
    "Z_fit_curve = np.reshape(xyz_fit_curve[:, 2], (P2_curve.shape))\n",
    "\n",
    "\n",
    "############\n",
    "# keep only points that are inside the fin\n",
    "xyz_array_norm = np.divide(xyz_array, np.asarray([np.max(xyz_array[:, 0]), \n",
    "                                                  np.max(xyz_array[:, 1]), \n",
    "                                                  np.max(xyz_array[:, 2])]))\n",
    "# generate normalized arrays\n",
    "X_norm = X_fit / np.max(xyz_array[:, 0])\n",
    "Y_norm = Y_fit / np.max(xyz_array[:, 1])\n",
    "Z_norm = Z_fit_curve / np.max(xyz_array[:, 2])\n",
    "\n",
    "alpha_fin = alphashape.alphashape(xyz_array_norm, 4)\n",
    "\n",
    "xyz_long = np.concatenate((np.reshape(X_norm, (X_norm.size, 1)),\n",
    "                           np.reshape(Y_norm, (X_norm.size, 1)),\n",
    "                           np.reshape(Z_norm, (X_norm.size, 1))),\n",
    "                          axis=1)\n",
    "\n",
    "inside_flags = alpha_fin.contains(xyz_long)\n",
    "inside_mat = np.reshape(inside_flags,(P0.shape))\n",
    "\n",
    "Z_fit_curve_filt = Z_fit_curve\n",
    "Z_fit_curve_filt[np.where(~inside_mat)] = np.nan\n",
    "\n",
    "\n",
    "fig = go.Figure(data=[go.Surface(x=X_fit, y=Y_fit, z=Z_fit_curve_filt, opacity=0.75)])\n",
    "# fig.add_trace(go.Scatter3d(x=x_vec, y=y_vec, z=z_vec, \n",
    "#                            mode='markers', \n",
    "#                            opacity=1))\n",
    "\n",
    "fig.add_trace(go.Mesh3d(x=xyz_array[:, 0], y=xyz_array[:, 1], z=xyz_array[:, 2],\n",
    "                                    alphahull=9,\n",
    "                                    opacity=0.25,\n",
    "                                    color='gray'))\n",
    "\n",
    "fig.show()\n",
    "\n",
    "fig.write_html(\"surface_fit.html\")"
   ]
  },
  {
   "cell_type": "markdown",
   "metadata": {},
   "source": [
    "**Now let's see if I can define a principal P-D axis.**"
   ]
  },
  {
   "cell_type": "code",
   "execution_count": null,
   "metadata": {
    "pycharm": {
     "is_executing": true
    }
   },
   "outputs": [],
   "source": [
    "# Use the sphere to define plane that can serve as the center PD \"spine\" that defines tha A-P coordinates\n",
    "\n",
    "# # get just points inside fin\n",
    "# xyz_fit_fin = xyz_fit_curve[np.where(inside_flags==1)]\n",
    "\n",
    "# # define function to calculate point displacement from proposed plane\n",
    "# def calculate_ap_plane_diffs(vec_prop, sphere_norm_vec=normal_vector_u, base_point=xyz_sol[0], xyz_points=xyz_array):\n",
    "    \n",
    "#     normal_vec = np.cross(vec_prop, sphere_norm_vec)\n",
    "#     normal_vec = normal_vec/np.sqrt(np.sum(normal_vec**2))\n",
    "    \n",
    "#     D = -np.dot(base_point, normal_vec.T) \n",
    "    \n",
    "#     # calculate the min and maximum d value\n",
    "#     d_vec_ap = np.matmul(normal_vec, xyz_points.T) + D\n",
    "    \n",
    "#     return d_vec_ap\n",
    "\n",
    "\n",
    "# def loss_fun(vec_prop):\n",
    "    \n",
    "#     ap_diffs = calculate_ap_plane_diffs(vec_prop)\n",
    "    \n",
    "#     return ap_diffs\n",
    "\n",
    "# # find the best-fitting AP normal vector\n",
    "# init_guess = np.cross(ap_axis_mean, normal_vector_u)\n",
    "# out = scipy.optimize.least_squares(loss_fun, init_guess)\n",
    "# d_vec_ap_centered = calculate_ap_plane_diffs(out.x)\n",
    "\n",
    "# # val_vec = np.empty((xyz_fit_curve.shape[0]))\n",
    "# # val_vec[np.where(inside_flags==1)] = d_vec_ap_centered\n",
    "# # val_vec[np.where(inside_flags==0)] = np.nan\n",
    "# # val_array = np.reshape(val_vec, (X_fit.shape))\n",
    "\n",
    "# # generate plane to check solution\n",
    "# grid_res = 100\n",
    "# X, Y = np.meshgrid(np.linspace(np.min(xyz_array[:,0]), np.max(xyz_array[:,0]), grid_res), \n",
    "#                    np.linspace(np.min(xyz_array[:,1]), np.max(xyz_array[:,1]), grid_res))\n",
    "\n",
    "# # calculate normal\n",
    "# normal_vec = np.cross(out.x, normal_vector_u)\n",
    "# normal_vec = normal_vec/np.sqrt(np.sum(normal_vec**2))\n",
    "\n",
    "# # calculate D\n",
    "# D = -np.dot(xyz_sol[0], normal_vec.T) \n",
    "\n",
    "# # predict z points\n",
    "# Z_pd = -(normal_vec[0]*X + normal_vec[1]*Y + D)/normal_vec[2]\n",
    "\n",
    "# fig = go.Figure(data=[go.Surface(x=X_fit, y=Y_fit, z=Z_fit_curve_filt, \n",
    "#                                  opacity=0.85)])\n",
    "\n",
    "# # fig = px.scatter_3d(x=xyz_fit_fin[:, 0], y=xyz_fit_fin[:, 1], z=xyz_fit_fin[:, 2],\n",
    "# #                     opacity=0.5,template=\"ggplot2\") \n",
    "\n",
    "# fig.add_trace(go.Surface(x=x, y=y, z=z, opacity=0.1))\n",
    "\n",
    "# # fig.add_trace(go.Surface(x=X, y=Y, z=Z_pd, opacity=1))\n",
    "\n",
    "# fig.add_trace(go.Scatter3d(x=[xyz_sol[0][0]], \n",
    "#                            y=[xyz_sol[0][1]], \n",
    "#                            z=[xyz_sol[0][2]], \n",
    "#                            mode='markers', \n",
    "#                            opacity=1))\n",
    "\n",
    "\n",
    "# # fig.update_layout(\n",
    "# #     scene = dict(zaxis = dict(nticks=10, range=[0,100]), xaxis = dict(nticks=10, range=[50,160]), \n",
    "# #                  yaxis = dict(nticks=10, range=[50,160])))\n",
    "          \n",
    "# fig.show()"
   ]
  },
  {
   "cell_type": "markdown",
   "metadata": {},
   "source": [
    "**Least squares fitting did not work.** So, instead, I will define the AP plane as the plane containing (i) the sphere normal and (ii) the vector normal to the fin surface at the base centroid point"
   ]
  },
  {
   "cell_type": "code",
   "execution_count": null,
   "metadata": {
    "pycharm": {
     "is_executing": true
    }
   },
   "outputs": [],
   "source": [
    "# get just points inside fin\n",
    "xyz_fit_fin = xyz_fit_curve[np.where(inside_flags==1)]\n",
    "\n",
    "# Find a normal vector from the surface that meets the centroid point (closest point)\n",
    "distance_list = np.sqrt(np.sum((xyz_sol[0]-xyz_fit_fin)**2, axis=1))\n",
    "min_i = np.argmin(distance_list)\n",
    "min_dist = np.min(distance_list)\n",
    "print(min_dist)\n",
    "\n",
    "# the vector from the surface point to the centroid defines a normal vector from surface to point\n",
    "slice_vec = xyz_sol[0] - xyz_fit_fin[min_i, :]\n",
    "print(slice_vec)\n",
    "\n",
    "# we can combine this with the normal vec from the sphere to define an AP plane\n",
    "plane_normal = np.cross(slice_vec, normal_vector_u)\n",
    "plane_normal_u = plane_normal / np.sqrt(np.sum(plane_normal**2))\n",
    "\n",
    "D_plane = -np.dot(xyz_fit_fin[min_i, :], plane_normal_u.T) \n",
    "\n",
    "# generate plane to check solution\n",
    "grid_res = 100\n",
    "X, Y = np.meshgrid(np.linspace(np.min(xyz_array[:,0]), np.max(xyz_array[:,0]), grid_res), \n",
    "                   np.linspace(np.min(xyz_array[:,1]), np.max(xyz_array[:,1]), grid_res))\n",
    "\n",
    "# predict z points\n",
    "Z_pd = -(plane_normal_u[0]*X + plane_normal_u[1]*Y + D_plane)/plane_normal_u[2]\n",
    "\n",
    "fig = go.Figure(data=[go.Surface(x=X_fit, y=Y_fit, z=Z_fit_curve_filt, \n",
    "                                 opacity=0.85)])\n",
    "\n",
    "# fig = px.scatter_3d(x=xyz_fit_fin[:, 0], y=xyz_fit_fin[:, 1], z=xyz_fit_fin[:, 2],\n",
    "#                     opacity=0.5,template=\"ggplot2\") \n",
    "\n",
    "fig.add_trace(go.Surface(x=x, y=y, z=z, opacity=0.1))\n",
    "\n",
    "fig.add_trace(go.Surface(x=X, y=Y, z=Z_pd, opacity=1))\n",
    "\n",
    "fig.add_trace(go.Scatter3d(x=[xyz_sol[0][0]], \n",
    "                           y=[xyz_sol[0][1]], \n",
    "                           z=[xyz_sol[0][2]], \n",
    "                           mode='markers', \n",
    "                           opacity=1))\n",
    "\n",
    "\n",
    "# fig.update_layout(\n",
    "#     scene = dict(zaxis = dict(nticks=10, range=[0,100]), xaxis = dict(nticks=10, range=[50,160]), \n",
    "#                  yaxis = dict(nticks=10, range=[50,160])))\n",
    "          \n",
    "fig.show()"
   ]
  },
  {
   "cell_type": "markdown",
   "metadata": {},
   "source": [
    "**This looks good.** All AP positions can now be defined as the distance from each nucleus's projection onto the surface to this central plane. Importantly, we want the distance ALONG the surface, rather than the simple euclidean distance. For the PD reference, we will use the intersection of the surface with the sphere"
   ]
  },
  {
   "cell_type": "code",
   "execution_count": null,
   "metadata": {
    "pycharm": {
     "is_executing": true
    }
   },
   "outputs": [],
   "source": [
    "# use average NN distance as a reference\n",
    "dist_ref_k = 2 \n",
    "tree = KDTree(xyz_fit_fin, leaf_size=2)\n",
    "nearest_dist, nearest_ind = tree.query(xyz_fit_fin, k=3)\n",
    "mean_nn_dist_vec = np.mean(nearest_dist, axis=0)\n",
    "max_dist = mean_nn_dist_vec[1]*1\n",
    "\n",
    "# identify points that fall along the AP center and PD base\n",
    "dist_vec_ap = np.matmul(plane_normal_u, xyz_fit_fin.T) + D_plane\n",
    "ap_ref_indices = np.where(np.abs(dist_vec_ap)<=max_dist)\n",
    "ap_signs = np.sign(dist_vec_ap)\n",
    "\n",
    "# identify points near base of fin\n",
    "sphere_dist = np.sqrt(np.sum((xyz_fit_fin - center_vec[0])**2, axis=1)) - r\n",
    "pd_ref_indices = np.where(np.abs(sphere_dist)<=max_dist)\n",
    "pd_signs = np.sign(sphere_dist)\n",
    "\n",
    "fig = go.Figure(data=[go.Surface(x=X_fit, y=Y_fit, z=Z_fit_curve_filt, \n",
    "                                 opacity=0.85)])\n",
    "\n",
    "# fig = px.scatter_3d(x=xyz_fit_fin[:, 0], y=xyz_fit_fin[:, 1], z=xyz_fit_fin[:, 2],\n",
    "#                     opacity=0.5,template=\"ggplot2\") \n",
    "\n",
    "fig.add_trace(go.Surface(x=x, y=y, z=z, opacity=0.4))\n",
    "\n",
    "#fig.add_trace(go.Surface(x=X, y=Y, z=Z_pd, opacity=1))\n",
    "\n",
    "fig.add_trace(go.Scatter3d(x=xyz_fit_fin[ap_ref_indices, 0][0], \n",
    "                           y=xyz_fit_fin[ap_ref_indices, 1][0], \n",
    "                           z=xyz_fit_fin[ap_ref_indices, 2][0], \n",
    "                           mode='markers', \n",
    "                           opacity=1))\n",
    "\n",
    "fig.add_trace(go.Scatter3d(x=xyz_fit_fin[pd_ref_indices, 0][0], \n",
    "                           y=xyz_fit_fin[pd_ref_indices, 1][0], \n",
    "                           z=xyz_fit_fin[pd_ref_indices, 2][0], \n",
    "                           mode='markers', \n",
    "                           opacity=1))\n",
    "\n",
    "fig.show()"
   ]
  },
  {
   "cell_type": "markdown",
   "metadata": {},
   "source": [
    "**Now, calculate the 2D projection for each fin point.** The distance from the point to the surface gives DV position. From there, we can estimate the AP and PD distance using the reference axes calculated above"
   ]
  },
  {
   "cell_type": "code",
   "execution_count": null,
   "metadata": {
    "pycharm": {
     "is_executing": true
    }
   },
   "outputs": [],
   "source": [
    "import pyvista as pv\n",
    "points = pv.wrap(xyz_fit_fin)\n",
    "fin_surf = points.delaunay_2d()\n",
    "# fin_surf.plot(show_edges=True)\n",
    "\n",
    "# pl = pv.Plotter(shape=(1, 2))\n",
    "# pl.add_mesh(points)\n",
    "# pl.add_title('Point Cloud of 3D Surface')\n",
    "# pl.subplot(0, 1)\n",
    "# pl.add_mesh(surf, color=True, show_edges=True)\n",
    "# pl.add_title('Reconstructed Surface')\n",
    "# pl.show()\n",
    "# print(grid)"
   ]
  },
  {
   "cell_type": "code",
   "execution_count": null,
   "metadata": {
    "pycharm": {
     "is_executing": true
    }
   },
   "outputs": [],
   "source": [
    "p1 = fin_surf.find_closest_point(xyz_array[100, :])\n",
    "p2 = fin_surf.find_closest_point(xyz_array[200, :])\n",
    "\n",
    "\n",
    "geo_distance = fin_surf.geodesic_distance(p1, p2)\n",
    "print(geo_distance)\n",
    "linear_distance = np.sqrt(np.sum((fin_surf.points[p1, :] - fin_surf.points[p2, :])**2))\n",
    "print(linear_distance)\n"
   ]
  },
  {
   "cell_type": "markdown",
   "metadata": {},
   "source": [
    "**Better, but there are still exceptions.** I think the only way to truly nail this is to perform the assignments using a greedy sweep approach that starts at the bottom and proceeds up to the tip. Not clear how best to implement this algorithm. Definitely not work for the plane.\n",
    "\n",
    "Ok, so I figured it out:\n",
    "1. Assign P-D positions to each point on the surface (negative values for things below the sphere)\n",
    "2. Divide these points into relatively fine P-D groups\n",
    "3. Starting from the proximal-most group, use the points to define top and bottom planes. Consider only nuclei that are between these boundaries\n",
    "4. Assign subgroup of nuclei to nearest surface point that is a member of the P-D group\n",
    "5. Repeat for each group, disallowing reassignments of previously assigned nuclei\n",
    "\n",
    "This should be reasonably fast still, and should avoid the pitfalls uncovered above"
   ]
  },
  {
   "cell_type": "code",
   "execution_count": null,
   "metadata": {
    "pycharm": {
     "is_executing": true
    }
   },
   "outputs": [],
   "source": [
    "# assign AP position to all points on fin surface\n",
    "surf_point_pd_list = []\n",
    "surf_point_ap_list = []\n",
    "\n",
    "for surf_i in range(fin_surf.points.shape[0]):\n",
    "\n",
    "    ###################################\n",
    "    # PD\n",
    "    ###################################\n",
    "    # Let's assume that closest point in euclidian space is also closest along geodesix\n",
    "    # I think this should be true. Need to confirm\n",
    "    dist_array = np.sqrt(np.sum((fin_surf.points[surf_i, :]-fin_surf.points[pd_ref_indices, :][0])**2, axis=1))\n",
    "    closest_i_raw = np.argmin(dist_array)\n",
    "    \n",
    "    geo_path = fin_surf.geodesic(surf_i, pd_ref_indices[0][closest_i_raw])\n",
    "#     geo_dist = fin_surf.geodesic_distance(surf_i, pd_ref_indices[0][closest_i_raw])\n",
    "    point_array = np.concatenate((np.reshape(fin_surf.points[surf_i, :],(1,3)), \n",
    "                                  geo_path.points, \n",
    "                                  np.reshape(fin_surf.points[pd_ref_indices[0][closest_i_raw], :], (1,3))), axis=0)\n",
    "    \n",
    "    dist_array = np.sqrt(np.sum((point_array[:-1, :] - point_array[1:, :])**2, axis=1))\n",
    "\n",
    "    surf_point_pd_list.append(np.sum(dist_array)*pd_signs[surf_i])\n",
    "    \n",
    "    ###################################\n",
    "    # AP\n",
    "    ###################################\n",
    "    dist_array_ap = np.sqrt(np.sum((fin_surf.points[surf_i, :]-fin_surf.points[ap_ref_indices, :][0])**2, axis=1))\n",
    "    closest_i_raw_ap = np.argmin(dist_array_ap)\n",
    "    \n",
    "    geo_path_ap = fin_surf.geodesic(surf_i, ap_ref_indices[0][closest_i_raw_ap])\n",
    "    point_array_ap = np.concatenate((np.reshape(fin_surf.points[surf_i, :],(1,3)), \n",
    "                                     geo_path_ap.points, \n",
    "                                     np.reshape(fin_surf.points[ap_ref_indices[0][closest_i_raw_ap], :], (1,3))), axis=0)\n",
    "    \n",
    "    dist_array = np.sqrt(np.sum((point_array_ap[:-1, :] - point_array_ap[1:, :])**2, axis=1))\n",
    "\n",
    "    surf_point_ap_list.append(np.sum(dist_array)*ap_signs[surf_i])\n",
    "\n",
    "\n",
    "surf_point_pd_list = np.asarray(surf_point_pd_list)\n",
    "surf_point_ap_list = np.asarray(surf_point_ap_list)"
   ]
  },
  {
   "cell_type": "code",
   "execution_count": null,
   "metadata": {
    "pycharm": {
     "is_executing": true
    }
   },
   "outputs": [],
   "source": [
    "# check that this makse sense\n",
    "\n",
    "fig = px.scatter_3d(x=fin_surf.points[:, 0],\n",
    "                           y=fin_surf.points[:, 1],\n",
    "                           z=fin_surf.points[:, 2],\n",
    "                           color=surf_point_pd_list,\n",
    "                                         opacity=0.2)\n",
    "\n",
    "fig.update_coloraxes(showscale=True)\n",
    "\n",
    "fig.show()"
   ]
  },
  {
   "cell_type": "code",
   "execution_count": null,
   "metadata": {
    "pycharm": {
     "is_executing": true
    }
   },
   "outputs": [],
   "source": [
    "print(len(np.unique(surf_point_pd_list)))"
   ]
  },
  {
   "cell_type": "markdown",
   "metadata": {},
   "source": [
    "**Now, discretize the PD axis into bins,** and use this to iteratively assign PD positions to all fin nuclei"
   ]
  },
  {
   "cell_type": "code",
   "execution_count": null,
   "metadata": {
    "pycharm": {
     "is_executing": true
    }
   },
   "outputs": [],
   "source": [
    "# compute surface normals\n",
    "fin_surf.compute_normals(cell_normals=False, point_normals=True, inplace=True)\n",
    "normal_array = fin_surf[\"Normals\"]\n",
    "surf_point_pd_arr = np.asarray(surf_point_pd_list)\n",
    "\n",
    "# group surface points into bins\n",
    "n_bins = 10\n",
    "pd_bins = np.linspace(np.min(surf_point_pd_arr), np.max(surf_point_pd_arr), n_bins+1)\n",
    "surf_pd_indices = np.digitize(surf_point_pd_arr, pd_bins)\n",
    "\n",
    "group_vec_surf = np.ones((fin_surf.points.shape[0],))-2\n",
    "group_vec_nuclei = np.ones((xyz_array.shape[0],))-2\n",
    "\n",
    "bio_pos_array = np.empty((xyz_array.shape))\n",
    "\n",
    "for n in range(n_bins):\n",
    "    \n",
    "    # find AP-centered points closest to PD boundaries\n",
    "    pd_curr = pd_bins[n+1]\n",
    "    pd_prev = pd_bins[n]\n",
    "    \n",
    "    pd_dists_curr = np.abs(surf_point_pd_list - pd_curr)\n",
    "    pd_dists_prev = np.abs(surf_point_pd_list - pd_prev)\n",
    "    curr_dist_vec = np.sqrt(surf_point_ap_list**2 + pd_dists_curr**2)\n",
    "    prev_dist_vec = np.sqrt(surf_point_ap_list**2 + pd_dists_prev**2)\n",
    "    \n",
    "    # get indices\n",
    "    curr_ind = np.argsort(curr_dist_vec)[0]\n",
    "    prev_ind = np.argsort(prev_dist_vec)[0]\n",
    "    \n",
    "    \n",
    "    # get all points within this region\n",
    "    pd_points_surf = fin_surf.points[np.where(surf_pd_indices == n+1)]\n",
    "    \n",
    "    pca_temp = PCA(n_components=3)\n",
    "    pca_temp.fit(pd_points_surf)\n",
    "    \n",
    "    # get points\n",
    "    curr_point = fin_surf.points[curr_ind, :]\n",
    "    prev_point = fin_surf.points[prev_ind, :]\n",
    "    \n",
    "    pd_vec = curr_point - prev_point\n",
    "    pd_vec_u = pd_vec / np.sqrt(np.sum(pd_vec**2))\n",
    "    \n",
    "    vec2 = pca_temp.components_[0]\n",
    "    vec1 = pca_temp.components_[1]\n",
    "    plane_vec = np.cross(vec1, vec2)\n",
    "    plane_vec_u = plane_vec / np.sqrt(np.sum(plane_vec**2))\n",
    "    \n",
    "    # enforce that normal plane vec must point \"up\" along PD axis\n",
    "    dp = np.dot(plane_vec_u,pd_vec_u)\n",
    "    pd_angle = np.arccos(dp)\n",
    "    \n",
    "    if pd_angle > np.pi/2:\n",
    "        plane_vec_u = -plane_vec_u\n",
    "    \n",
    "    # get d values for each\n",
    "    D_p = -np.sum(np.multiply(plane_vec_u, curr_point))\n",
    "    \n",
    "    # calulate how many points are between planes\n",
    "    p_signs_surf = np.sign(np.matmul(plane_vec_u, fin_surf.points.T) + D_p)\n",
    "    p_signs_nuclei = np.sign(np.matmul(plane_vec_u, xyz_array.T) + D_p)\n",
    "    \n",
    "    if n < n_bins-1:\n",
    "        surf_indices = np.where((p_signs_surf==-1)&(group_vec_surf==-1))[0]\n",
    "        nc_indices = np.where((p_signs_nuclei==-1)&(group_vec_nuclei==-1))[0]\n",
    "    else:\n",
    "        surf_indices = np.where(group_vec_surf==-1)[0]\n",
    "        nc_indices = np.where(group_vec_nuclei==-1)[0]\n",
    "        \n",
    "    group_vec_surf[surf_indices] = n\n",
    "    group_vec_nuclei[nc_indices] = n\n",
    "    \n",
    "    # find nearest surface point for each nucles and assign spatial positions accordingle\n",
    "    dist_array = distance_matrix(xyz_array[nc_indices], fin_surf.points[surf_indices])\n",
    "    dv_distances = np.min(dist_array, axis=1)\n",
    "    dv_indices = np.argmin(dist_array, axis=1)\n",
    "    \n",
    "    # assign positions\n",
    "    for i in range(len(nc_indices)):\n",
    "        # assign AP and PD coordinates\n",
    "        bio_pos_array[nc_indices[i], 0] = surf_point_pd_list[surf_indices[dv_indices[i]]]\n",
    "        bio_pos_array[nc_indices[i], 1] = surf_point_ap_list[surf_indices[dv_indices[i]]]\n",
    "        \n",
    "        # we need to assign direction to \n",
    "        dv_vec = xyz_array[nc_indices[i]] - fin_surf.points[surf_indices[dv_indices[i]]]\n",
    "        dv_vec_u = dv_vec / np.sqrt(np.sum(dv_vec**2))\n",
    "        norm_vec = normal_array[curr_ind, :]\n",
    "        norm_vec_u = norm_vec / np.sqrt(np.sum(norm_vec**2))\n",
    "        dp_dv = np.dot(norm_vec_u,dv_vec_u)        \n",
    "        dv_angle = np.arccos(dp_dv)\n",
    "        \n",
    "        if dv_angle < np.pi/2:\n",
    "            bio_pos_array[nc_indices[i], 2] = dv_distances[i]\n",
    "        else:\n",
    "            bio_pos_array[nc_indices[i], 2] = -dv_distances[i]\n",
    "    \n",
    "    \n",
    "    \n",
    "# what do these planes look like?\n",
    "Z_p = -(plane_vec_u[0]*X + plane_vec_u[1]*Y + D_p)/plane_vec_u[2]\n",
    "\n",
    "dv_max = 30\n",
    "bio_pos_array[np.where(np.abs(bio_pos_array[:, 2])>=dv_max)[0], :] = np.nan\n",
    "\n",
    "fig = go.Figure()\n",
    "\n",
    "# logic_array = np.zeros((np.shape(group_vec)))\n",
    "# logic_array[p_signs_prev==1] = 1\n",
    "# logic_array[p_signs!=-1] = 0\n",
    "\n"
   ]
  },
  {
   "cell_type": "code",
   "execution_count": null,
   "metadata": {
    "pycharm": {
     "is_executing": true
    }
   },
   "outputs": [],
   "source": [
    "fig.add_trace(go.Scatter3d(x=xyz_array[:, 0],\n",
    "                           y=xyz_array[:, 1],\n",
    "                           z=xyz_array[:, 2],\n",
    "                           mode='markers',\n",
    "                           marker=dict(\n",
    "                           color=bio_pos_array[:, 2],\n",
    "                           opacity=0.2)))\n",
    "\n",
    "fig.update_layout(title=\"DV Position\")\n",
    "\n",
    "fig.show()"
   ]
  },
  {
   "cell_type": "code",
   "execution_count": null,
   "metadata": {
    "pycharm": {
     "is_executing": true
    }
   },
   "outputs": [],
   "source": [
    "fig.add_trace(go.Scatter3d(x=xyz_array[:, 0],\n",
    "                           y=xyz_array[:, 1],\n",
    "                           z=xyz_array[:, 2],\n",
    "                           mode='markers',\n",
    "                           marker=dict(\n",
    "                           color=bio_pos_array[:, 1],\n",
    "                           opacity=0.2)))\n",
    "\n",
    "\n",
    "fig.update_layout(title=\"AP Position\")\n",
    "\n",
    "\n",
    "\n",
    "fig.show()"
   ]
  },
  {
   "cell_type": "code",
   "execution_count": null,
   "metadata": {
    "pycharm": {
     "is_executing": true
    }
   },
   "outputs": [],
   "source": [
    "fig.add_trace(go.Scatter3d(x=xyz_array[:, 0],\n",
    "                           y=xyz_array[:, 1],\n",
    "                           z=xyz_array[:, 2],\n",
    "                           mode='markers',\n",
    "                           marker=dict(\n",
    "                           color=bio_pos_array[:, 0],\n",
    "                           opacity=0.2)))\n",
    "\n",
    "fig.update_layout(title=\"PD Position\")\n",
    "\n",
    "fig.show()"
   ]
  },
  {
   "cell_type": "code",
   "execution_count": null,
   "metadata": {
    "pycharm": {
     "is_executing": true
    }
   },
   "outputs": [],
   "source": [
    "fig = go.Figure()\n",
    "\n",
    "# logic_array = np.zeros((np.shape(group_vec)))\n",
    "# logic_array[p_signs_prev==1] = 1\n",
    "# logic_array[p_signs!=-1] = 0\n",
    "\n",
    "fig.add_trace(go.Scatter3d(x=bio_pos_array[:, 1],\n",
    "                           y=bio_pos_array[:, 2],\n",
    "                           z=bio_pos_array[:, 0],\n",
    "                           mode='markers',\n",
    "                           marker=dict(\n",
    "                           opacity=0.4)))"
   ]
  },
  {
   "cell_type": "code",
   "execution_count": null,
   "metadata": {
    "pycharm": {
     "is_executing": true
    }
   },
   "outputs": [],
   "source": []
  },
  {
   "cell_type": "code",
   "execution_count": null,
   "metadata": {
    "pycharm": {
     "is_executing": true
    }
   },
   "outputs": [],
   "source": []
  }
 ],
 "metadata": {
  "kernelspec": {
   "display_name": "Python 3 (ipykernel)",
   "language": "python",
   "name": "python3"
  },
  "language_info": {
   "codemirror_mode": {
    "name": "ipython",
    "version": 3
   },
   "file_extension": ".py",
   "mimetype": "text/x-python",
   "name": "python",
   "nbconvert_exporter": "python",
   "pygments_lexer": "ipython3",
   "version": "3.10.8"
  }
 },
 "nbformat": 4,
 "nbformat_minor": 1
}

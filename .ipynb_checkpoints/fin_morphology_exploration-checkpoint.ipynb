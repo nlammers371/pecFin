{
 "cells": [
  {
   "cell_type": "markdown",
   "metadata": {},
   "source": [
    "# Notebook to experiment with ways to quantify pec fin morphology"
   ]
  },
  {
   "cell_type": "markdown",
   "metadata": {},
   "source": [
    "### Import packages"
   ]
  },
  {
   "cell_type": "code",
   "execution_count": 1,
   "metadata": {},
   "outputs": [],
   "source": [
    "from ome_zarr.io import parse_url\n",
    "from ome_zarr.reader import Reader\n",
    "import napari\n",
    "import numpy as np\n",
    "from napari_animation import Animation\n",
    "import pandas as pd"
   ]
  },
  {
   "cell_type": "markdown",
   "metadata": {},
   "source": [
    "### Now, load an image dataset along with nucleus masks inferred using cellpose."
   ]
  },
  {
   "cell_type": "code",
   "execution_count": 2,
   "metadata": {},
   "outputs": [
    {
     "data": {
      "text/html": [
       "<div>\n",
       "<style scoped>\n",
       "    .dataframe tbody tr th:only-of-type {\n",
       "        vertical-align: middle;\n",
       "    }\n",
       "\n",
       "    .dataframe tbody tr th {\n",
       "        vertical-align: top;\n",
       "    }\n",
       "\n",
       "    .dataframe thead th {\n",
       "        text-align: right;\n",
       "    }\n",
       "</style>\n",
       "<table border=\"1\" class=\"dataframe\">\n",
       "  <thead>\n",
       "    <tr style=\"text-align: right;\">\n",
       "      <th></th>\n",
       "      <th>Unnamed: 0</th>\n",
       "      <th>Z</th>\n",
       "      <th>Y</th>\n",
       "      <th>X</th>\n",
       "      <th>Area</th>\n",
       "      <th>Axis_1</th>\n",
       "      <th>Axis_2</th>\n",
       "      <th>Axis_3</th>\n",
       "      <th>axis_dirs</th>\n",
       "    </tr>\n",
       "  </thead>\n",
       "  <tbody>\n",
       "    <tr>\n",
       "      <th>0</th>\n",
       "      <td>0</td>\n",
       "      <td>2.639764</td>\n",
       "      <td>1.546455</td>\n",
       "      <td>84.725788</td>\n",
       "      <td>2537</td>\n",
       "      <td>10.984421</td>\n",
       "      <td>3.961844</td>\n",
       "      <td>1.871490</td>\n",
       "      <td>[[ 0.61748594  0.71242812 -0.33340261]\\n [-0.3...</td>\n",
       "    </tr>\n",
       "    <tr>\n",
       "      <th>1</th>\n",
       "      <td>1</td>\n",
       "      <td>1.705905</td>\n",
       "      <td>5.637094</td>\n",
       "      <td>86.416871</td>\n",
       "      <td>5084</td>\n",
       "      <td>13.043954</td>\n",
       "      <td>5.298203</td>\n",
       "      <td>2.406970</td>\n",
       "      <td>[[-0.96889441 -0.21164702  0.1282543 ]\\n [-0.1...</td>\n",
       "    </tr>\n",
       "    <tr>\n",
       "      <th>2</th>\n",
       "      <td>2</td>\n",
       "      <td>5.189623</td>\n",
       "      <td>9.904291</td>\n",
       "      <td>96.172451</td>\n",
       "      <td>20784</td>\n",
       "      <td>23.681668</td>\n",
       "      <td>6.666189</td>\n",
       "      <td>4.589988</td>\n",
       "      <td>[[ 0.06119428  0.99808033  0.00953524]\\n [ 0.9...</td>\n",
       "    </tr>\n",
       "    <tr>\n",
       "      <th>3</th>\n",
       "      <td>3</td>\n",
       "      <td>2.486621</td>\n",
       "      <td>7.913299</td>\n",
       "      <td>93.042876</td>\n",
       "      <td>5522</td>\n",
       "      <td>13.582985</td>\n",
       "      <td>4.772553</td>\n",
       "      <td>2.939320</td>\n",
       "      <td>[[-0.99538174 -0.06800537  0.06775296]\\n [-0.0...</td>\n",
       "    </tr>\n",
       "    <tr>\n",
       "      <th>4</th>\n",
       "      <td>4</td>\n",
       "      <td>1.038200</td>\n",
       "      <td>10.568959</td>\n",
       "      <td>83.740526</td>\n",
       "      <td>2672</td>\n",
       "      <td>12.182761</td>\n",
       "      <td>4.115927</td>\n",
       "      <td>1.688992</td>\n",
       "      <td>[[-0.99384776 -0.10485687 -0.03566044]\\n [ 0.0...</td>\n",
       "    </tr>\n",
       "  </tbody>\n",
       "</table>\n",
       "</div>"
      ],
      "text/plain": [
       "   Unnamed: 0         Z          Y          X   Area     Axis_1    Axis_2  \\\n",
       "0           0  2.639764   1.546455  84.725788   2537  10.984421  3.961844   \n",
       "1           1  1.705905   5.637094  86.416871   5084  13.043954  5.298203   \n",
       "2           2  5.189623   9.904291  96.172451  20784  23.681668  6.666189   \n",
       "3           3  2.486621   7.913299  93.042876   5522  13.582985  4.772553   \n",
       "4           4  1.038200  10.568959  83.740526   2672  12.182761  4.115927   \n",
       "\n",
       "     Axis_3                                          axis_dirs  \n",
       "0  1.871490  [[ 0.61748594  0.71242812 -0.33340261]\\n [-0.3...  \n",
       "1  2.406970  [[-0.96889441 -0.21164702  0.1282543 ]\\n [-0.1...  \n",
       "2  4.589988  [[ 0.06119428  0.99808033  0.00953524]\\n [ 0.9...  \n",
       "3  2.939320  [[-0.99538174 -0.06800537  0.06775296]\\n [-0.0...  \n",
       "4  1.688992  [[-0.99384776 -0.10485687 -0.03566044]\\n [ 0.0...  "
      ]
     },
     "execution_count": 2,
     "metadata": {},
     "output_type": "execute_result"
    }
   ],
   "source": [
    "import warnings\n",
    "warnings.filterwarnings(\"ignore\")\n",
    "\n",
    "# set parameters\n",
    "filename = \"2022_12_15 HCR Hand2 Tbx5a Fgf10a_1\"\n",
    "readPath = \"/Users/nick/Dropbox (Cole Trapnell's Lab)/Nick/pecFin/HCR_Data/built_zarr_files/\" + filename + '_nucleus_props.csv'\n",
    "\n",
    "image_df = pd.read_csv(readPath)\n",
    "image_df.head()\n"
   ]
  },
  {
   "cell_type": "markdown",
   "metadata": {},
   "source": [
    "### convert to point cloud and import pacakges"
   ]
  },
  {
   "cell_type": "code",
   "execution_count": 5,
   "metadata": {
    "pycharm": {
     "is_executing": true
    }
   },
   "outputs": [],
   "source": [
    "import numpy as np\n",
    "import open3d as o3d\n",
    "import plotly.express as px\n",
    "import plotly.graph_objects as go\n",
    "from sklearn.cluster import KMeans, DBSCAN, OPTICS\n",
    "import matplotlib.pyplot as plt\n",
    "from sklearn.preprocessing import StandardScaler\n",
    "\n",
    "pcd = o3d.geometry.PointCloud()\n",
    "pcd.points = o3d.utility.Vector3dVector(np.asarray(image_df.iloc[:, 0:3]))\n",
    "# Get points and transform it to a numpy array:\n",
    "points = np.asarray(pcd.points).copy()"
   ]
  },
  {
   "cell_type": "markdown",
   "metadata": {
    "pycharm": {
     "is_executing": true
    }
   },
   "source": [
    "### Experiment with basic k-means classifier"
   ]
  },
  {
   "cell_type": "code",
   "execution_count": 16,
   "metadata": {},
   "outputs": [
    {
     "ename": "ValueError",
     "evalue": "too many values to unpack (expected 2)",
     "output_type": "error",
     "traceback": [
      "\u001B[0;31m---------------------------------------------------------------------------\u001B[0m",
      "\u001B[0;31mValueError\u001B[0m                                Traceback (most recent call last)",
      "Cell \u001B[0;32mIn[16], line 17\u001B[0m\n\u001B[1;32m     14\u001B[0m \u001B[38;5;66;03m# Attribute to noise the black color:\u001B[39;00m\n\u001B[1;32m     15\u001B[0m colors[labels \u001B[38;5;241m<\u001B[39m \u001B[38;5;241m0\u001B[39m] \u001B[38;5;241m=\u001B[39m \u001B[38;5;241m0\u001B[39m\n\u001B[0;32m---> 17\u001B[0m labels_u, i_u \u001B[38;5;241m=\u001B[39m np\u001B[38;5;241m.\u001B[39munique(labels)\n\u001B[1;32m     19\u001B[0m fig \u001B[38;5;241m=\u001B[39m px\u001B[38;5;241m.\u001B[39mscatter_3d(image_df\u001B[38;5;241m.\u001B[39miloc[labels\u001B[38;5;241m==\u001B[39mlabels_u[\u001B[38;5;241m0\u001B[39m]], x\u001B[38;5;241m=\u001B[39m\u001B[38;5;124m\"\u001B[39m\u001B[38;5;124mX\u001B[39m\u001B[38;5;124m\"\u001B[39m, y\u001B[38;5;241m=\u001B[39m\u001B[38;5;124m\"\u001B[39m\u001B[38;5;124mY\u001B[39m\u001B[38;5;124m\"\u001B[39m, z\u001B[38;5;241m=\u001B[39m\u001B[38;5;124m\"\u001B[39m\u001B[38;5;124mZ\u001B[39m\u001B[38;5;124m\"\u001B[39m,opacity\u001B[38;5;241m=\u001B[39m\u001B[38;5;241m0.5\u001B[39m, color\u001B[38;5;241m=\u001B[39mcolors[i_u[\u001B[38;5;241m0\u001B[39m]])\n\u001B[1;32m     20\u001B[0m \u001B[38;5;28;01mfor\u001B[39;00m i \u001B[38;5;129;01min\u001B[39;00m \u001B[38;5;28mrange\u001B[39m(\u001B[38;5;241m1\u001B[39m, \u001B[38;5;28mlen\u001B[39m(labels_u)):\n",
      "\u001B[0;31mValueError\u001B[0m: too many values to unpack (expected 2)"
     ]
    }
   ],
   "source": [
    "# Normalisation:\n",
    "scaled_points = StandardScaler().fit_transform(points)\n",
    "# Clustering:\n",
    "model = KMeans(n_clusters=4)\n",
    "model.fit(scaled_points)\n",
    "\n",
    "# Get labels:\n",
    "labels = model.labels_\n",
    "# Get the number of colors:\n",
    "n_clusters = len(set(labels))\n",
    "\n",
    "# Mapping the labels classes to a color map:\n",
    "colors = plt.get_cmap(\"tab20\")(labels / (n_clusters if n_clusters > 0 else 1))\n",
    "# Attribute to noise the black color:\n",
    "colors[labels < 0] = 0\n",
    "                                  "
   ]
  },
  {
   "cell_type": "code",
   "execution_count": 24,
   "metadata": {},
   "outputs": [
    {
     "ename": "ValueError",
     "evalue": "\n    Invalid value of type 'builtins.int' received for the 'opacity' property of scatter3d\n        Received value: 5\n\n    The 'opacity' property is a number and may be specified as:\n      - An int or float in the interval [0, 1]",
     "output_type": "error",
     "traceback": [
      "\u001B[0;31m---------------------------------------------------------------------------\u001B[0m",
      "\u001B[0;31mValueError\u001B[0m                                Traceback (most recent call last)",
      "Cell \u001B[0;32mIn[24], line 7\u001B[0m\n\u001B[1;32m      4\u001B[0m fig\u001B[38;5;241m.\u001B[39mupdate_traces(marker\u001B[38;5;241m=\u001B[39m\u001B[38;5;28mdict\u001B[39m(color\u001B[38;5;241m=\u001B[39mcolors[i_u[\u001B[38;5;241m0\u001B[39m]]))\n\u001B[1;32m      5\u001B[0m \u001B[38;5;28;01mfor\u001B[39;00m i \u001B[38;5;129;01min\u001B[39;00m \u001B[38;5;28mrange\u001B[39m(\u001B[38;5;241m1\u001B[39m, \u001B[38;5;28mlen\u001B[39m(labels_u)):\n\u001B[1;32m      6\u001B[0m     fig\u001B[38;5;241m.\u001B[39madd_trace(\n\u001B[0;32m----> 7\u001B[0m                 \u001B[43mgo\u001B[49m\u001B[38;5;241;43m.\u001B[39;49m\u001B[43mScatter3d\u001B[49m\u001B[43m(\u001B[49m\n\u001B[1;32m      8\u001B[0m \u001B[43m                    \u001B[49m\u001B[43mmode\u001B[49m\u001B[38;5;241;43m=\u001B[39;49m\u001B[38;5;124;43m'\u001B[39;49m\u001B[38;5;124;43mmarkers\u001B[39;49m\u001B[38;5;124;43m'\u001B[39;49m\u001B[43m,\u001B[49m\n\u001B[1;32m      9\u001B[0m \u001B[43m                    \u001B[49m\u001B[43mx\u001B[49m\u001B[38;5;241;43m=\u001B[39;49m\u001B[43mimage_df\u001B[49m\u001B[43m[\u001B[49m\u001B[38;5;124;43m\"\u001B[39;49m\u001B[38;5;124;43mX\u001B[39;49m\u001B[38;5;124;43m\"\u001B[39;49m\u001B[43m]\u001B[49m\u001B[38;5;241;43m.\u001B[39;49m\u001B[43miloc\u001B[49m\u001B[43m[\u001B[49m\u001B[43mlabels\u001B[49m\u001B[38;5;241;43m==\u001B[39;49m\u001B[43mlabels_u\u001B[49m\u001B[43m[\u001B[49m\u001B[43mi\u001B[49m\u001B[43m]\u001B[49m\u001B[43m]\u001B[49m\u001B[43m,\u001B[49m\n\u001B[1;32m     10\u001B[0m \u001B[43m                    \u001B[49m\u001B[43my\u001B[49m\u001B[38;5;241;43m=\u001B[39;49m\u001B[43mimage_df\u001B[49m\u001B[43m[\u001B[49m\u001B[38;5;124;43m\"\u001B[39;49m\u001B[38;5;124;43mY\u001B[39;49m\u001B[38;5;124;43m\"\u001B[39;49m\u001B[43m]\u001B[49m\u001B[38;5;241;43m.\u001B[39;49m\u001B[43miloc\u001B[49m\u001B[43m[\u001B[49m\u001B[43mlabels\u001B[49m\u001B[38;5;241;43m==\u001B[39;49m\u001B[43mlabels_u\u001B[49m\u001B[43m[\u001B[49m\u001B[43mi\u001B[49m\u001B[43m]\u001B[49m\u001B[43m]\u001B[49m\u001B[43m,\u001B[49m\n\u001B[1;32m     11\u001B[0m \u001B[43m                    \u001B[49m\u001B[43mz\u001B[49m\u001B[38;5;241;43m=\u001B[39;49m\u001B[43mimage_df\u001B[49m\u001B[43m[\u001B[49m\u001B[38;5;124;43m\"\u001B[39;49m\u001B[38;5;124;43mZ\u001B[39;49m\u001B[38;5;124;43m\"\u001B[39;49m\u001B[43m]\u001B[49m\u001B[38;5;241;43m.\u001B[39;49m\u001B[43miloc\u001B[49m\u001B[43m[\u001B[49m\u001B[43mlabels\u001B[49m\u001B[38;5;241;43m==\u001B[39;49m\u001B[43mlabels_u\u001B[49m\u001B[43m[\u001B[49m\u001B[43mi\u001B[49m\u001B[43m]\u001B[49m\u001B[43m]\u001B[49m\u001B[43m,\u001B[49m\n\u001B[1;32m     12\u001B[0m \u001B[43m                    \u001B[49m\u001B[43mopacity\u001B[49m\u001B[38;5;241;43m=\u001B[39;49m\u001B[38;5;241;43m5\u001B[39;49m\u001B[43m,\u001B[49m\n\u001B[1;32m     13\u001B[0m \u001B[43m                    \u001B[49m\u001B[43mmarker\u001B[49m\u001B[38;5;241;43m=\u001B[39;49m\u001B[38;5;28;43mdict\u001B[39;49m\u001B[43m(\u001B[49m\n\u001B[1;32m     14\u001B[0m \u001B[43m                        \u001B[49m\u001B[43mcolor\u001B[49m\u001B[38;5;241;43m=\u001B[39;49m\u001B[43mcolors\u001B[49m\u001B[43m[\u001B[49m\u001B[43mi_u\u001B[49m\u001B[43m[\u001B[49m\u001B[43mi\u001B[49m\u001B[43m]\u001B[49m\u001B[43m]\u001B[49m\u001B[43m,\u001B[49m\n\u001B[1;32m     15\u001B[0m \u001B[43m                        \u001B[49m\u001B[43msize\u001B[49m\u001B[38;5;241;43m=\u001B[39;49m\u001B[38;5;241;43m7\u001B[39;49m\n\u001B[1;32m     16\u001B[0m \u001B[43m                    \u001B[49m\u001B[43m)\u001B[49m\u001B[43m,\u001B[49m\n\u001B[1;32m     17\u001B[0m \u001B[43m                    \u001B[49m\u001B[43mshowlegend\u001B[49m\u001B[38;5;241;43m=\u001B[39;49m\u001B[38;5;28;43;01mFalse\u001B[39;49;00m\u001B[43m)\u001B[49m\n\u001B[1;32m     18\u001B[0m                 )\n\u001B[1;32m     19\u001B[0m fig\u001B[38;5;241m.\u001B[39mshow()\n",
      "File \u001B[0;32m~/miniforge3/envs/napari-env/lib/python3.10/site-packages/plotly/graph_objs/_scatter3d.py:2647\u001B[0m, in \u001B[0;36mScatter3d.__init__\u001B[0;34m(self, arg, connectgaps, customdata, customdatasrc, error_x, error_y, error_z, hoverinfo, hoverinfosrc, hoverlabel, hovertemplate, hovertemplatesrc, hovertext, hovertextsrc, ids, idssrc, legendgroup, legendgrouptitle, legendrank, legendwidth, line, marker, meta, metasrc, mode, name, opacity, projection, scene, showlegend, stream, surfaceaxis, surfacecolor, text, textfont, textposition, textpositionsrc, textsrc, texttemplate, texttemplatesrc, uid, uirevision, visible, x, xcalendar, xhoverformat, xsrc, y, ycalendar, yhoverformat, ysrc, z, zcalendar, zhoverformat, zsrc, **kwargs)\u001B[0m\n\u001B[1;32m   2645\u001B[0m _v \u001B[38;5;241m=\u001B[39m opacity \u001B[38;5;28;01mif\u001B[39;00m opacity \u001B[38;5;129;01mis\u001B[39;00m \u001B[38;5;129;01mnot\u001B[39;00m \u001B[38;5;28;01mNone\u001B[39;00m \u001B[38;5;28;01melse\u001B[39;00m _v\n\u001B[1;32m   2646\u001B[0m \u001B[38;5;28;01mif\u001B[39;00m _v \u001B[38;5;129;01mis\u001B[39;00m \u001B[38;5;129;01mnot\u001B[39;00m \u001B[38;5;28;01mNone\u001B[39;00m:\n\u001B[0;32m-> 2647\u001B[0m     \u001B[38;5;28mself\u001B[39m[\u001B[38;5;124m\"\u001B[39m\u001B[38;5;124mopacity\u001B[39m\u001B[38;5;124m\"\u001B[39m] \u001B[38;5;241m=\u001B[39m _v\n\u001B[1;32m   2648\u001B[0m _v \u001B[38;5;241m=\u001B[39m arg\u001B[38;5;241m.\u001B[39mpop(\u001B[38;5;124m\"\u001B[39m\u001B[38;5;124mprojection\u001B[39m\u001B[38;5;124m\"\u001B[39m, \u001B[38;5;28;01mNone\u001B[39;00m)\n\u001B[1;32m   2649\u001B[0m _v \u001B[38;5;241m=\u001B[39m projection \u001B[38;5;28;01mif\u001B[39;00m projection \u001B[38;5;129;01mis\u001B[39;00m \u001B[38;5;129;01mnot\u001B[39;00m \u001B[38;5;28;01mNone\u001B[39;00m \u001B[38;5;28;01melse\u001B[39;00m _v\n",
      "File \u001B[0;32m~/miniforge3/envs/napari-env/lib/python3.10/site-packages/plotly/basedatatypes.py:4851\u001B[0m, in \u001B[0;36mBasePlotlyType.__setitem__\u001B[0;34m(self, prop, value)\u001B[0m\n\u001B[1;32m   4847\u001B[0m         \u001B[38;5;28mself\u001B[39m\u001B[38;5;241m.\u001B[39m_set_array_prop(prop, value)\n\u001B[1;32m   4849\u001B[0m     \u001B[38;5;66;03m# ### Handle simple property ###\u001B[39;00m\n\u001B[1;32m   4850\u001B[0m     \u001B[38;5;28;01melse\u001B[39;00m:\n\u001B[0;32m-> 4851\u001B[0m         \u001B[38;5;28;43mself\u001B[39;49m\u001B[38;5;241;43m.\u001B[39;49m\u001B[43m_set_prop\u001B[49m\u001B[43m(\u001B[49m\u001B[43mprop\u001B[49m\u001B[43m,\u001B[49m\u001B[43m \u001B[49m\u001B[43mvalue\u001B[49m\u001B[43m)\u001B[49m\n\u001B[1;32m   4852\u001B[0m \u001B[38;5;28;01melse\u001B[39;00m:\n\u001B[1;32m   4853\u001B[0m     \u001B[38;5;66;03m# Make sure properties dict is initialized\u001B[39;00m\n\u001B[1;32m   4854\u001B[0m     \u001B[38;5;28mself\u001B[39m\u001B[38;5;241m.\u001B[39m_init_props()\n",
      "File \u001B[0;32m~/miniforge3/envs/napari-env/lib/python3.10/site-packages/plotly/basedatatypes.py:5195\u001B[0m, in \u001B[0;36mBasePlotlyType._set_prop\u001B[0;34m(self, prop, val)\u001B[0m\n\u001B[1;32m   5193\u001B[0m         \u001B[38;5;28;01mreturn\u001B[39;00m\n\u001B[1;32m   5194\u001B[0m     \u001B[38;5;28;01melse\u001B[39;00m:\n\u001B[0;32m-> 5195\u001B[0m         \u001B[38;5;28;01mraise\u001B[39;00m err\n\u001B[1;32m   5197\u001B[0m \u001B[38;5;66;03m# val is None\u001B[39;00m\n\u001B[1;32m   5198\u001B[0m \u001B[38;5;66;03m# -----------\u001B[39;00m\n\u001B[1;32m   5199\u001B[0m \u001B[38;5;28;01mif\u001B[39;00m val \u001B[38;5;129;01mis\u001B[39;00m \u001B[38;5;28;01mNone\u001B[39;00m:\n\u001B[1;32m   5200\u001B[0m     \u001B[38;5;66;03m# Check if we should send null update\u001B[39;00m\n",
      "File \u001B[0;32m~/miniforge3/envs/napari-env/lib/python3.10/site-packages/plotly/basedatatypes.py:5190\u001B[0m, in \u001B[0;36mBasePlotlyType._set_prop\u001B[0;34m(self, prop, val)\u001B[0m\n\u001B[1;32m   5187\u001B[0m validator \u001B[38;5;241m=\u001B[39m \u001B[38;5;28mself\u001B[39m\u001B[38;5;241m.\u001B[39m_get_validator(prop)\n\u001B[1;32m   5189\u001B[0m \u001B[38;5;28;01mtry\u001B[39;00m:\n\u001B[0;32m-> 5190\u001B[0m     val \u001B[38;5;241m=\u001B[39m \u001B[43mvalidator\u001B[49m\u001B[38;5;241;43m.\u001B[39;49m\u001B[43mvalidate_coerce\u001B[49m\u001B[43m(\u001B[49m\u001B[43mval\u001B[49m\u001B[43m)\u001B[49m\n\u001B[1;32m   5191\u001B[0m \u001B[38;5;28;01mexcept\u001B[39;00m \u001B[38;5;167;01mValueError\u001B[39;00m \u001B[38;5;28;01mas\u001B[39;00m err:\n\u001B[1;32m   5192\u001B[0m     \u001B[38;5;28;01mif\u001B[39;00m \u001B[38;5;28mself\u001B[39m\u001B[38;5;241m.\u001B[39m_skip_invalid:\n",
      "File \u001B[0;32m~/miniforge3/envs/napari-env/lib/python3.10/site-packages/_plotly_utils/basevalidators.py:804\u001B[0m, in \u001B[0;36mNumberValidator.validate_coerce\u001B[0;34m(self, v)\u001B[0m\n\u001B[1;32m    802\u001B[0m     \u001B[38;5;28;01mif\u001B[39;00m \u001B[38;5;28mself\u001B[39m\u001B[38;5;241m.\u001B[39mhas_min_max:\n\u001B[1;32m    803\u001B[0m         \u001B[38;5;28;01mif\u001B[39;00m \u001B[38;5;129;01mnot\u001B[39;00m (\u001B[38;5;28mself\u001B[39m\u001B[38;5;241m.\u001B[39mmin_val \u001B[38;5;241m<\u001B[39m\u001B[38;5;241m=\u001B[39m v \u001B[38;5;241m<\u001B[39m\u001B[38;5;241m=\u001B[39m \u001B[38;5;28mself\u001B[39m\u001B[38;5;241m.\u001B[39mmax_val):\n\u001B[0;32m--> 804\u001B[0m             \u001B[38;5;28;43mself\u001B[39;49m\u001B[38;5;241;43m.\u001B[39;49m\u001B[43mraise_invalid_val\u001B[49m\u001B[43m(\u001B[49m\u001B[43mv\u001B[49m\u001B[43m)\u001B[49m\n\u001B[1;32m    805\u001B[0m \u001B[38;5;28;01mreturn\u001B[39;00m v\n",
      "File \u001B[0;32m~/miniforge3/envs/napari-env/lib/python3.10/site-packages/_plotly_utils/basevalidators.py:288\u001B[0m, in \u001B[0;36mBaseValidator.raise_invalid_val\u001B[0;34m(self, v, inds)\u001B[0m\n\u001B[1;32m    285\u001B[0m             \u001B[38;5;28;01mfor\u001B[39;00m i \u001B[38;5;129;01min\u001B[39;00m inds:\n\u001B[1;32m    286\u001B[0m                 name \u001B[38;5;241m+\u001B[39m\u001B[38;5;241m=\u001B[39m \u001B[38;5;124m\"\u001B[39m\u001B[38;5;124m[\u001B[39m\u001B[38;5;124m\"\u001B[39m \u001B[38;5;241m+\u001B[39m \u001B[38;5;28mstr\u001B[39m(i) \u001B[38;5;241m+\u001B[39m \u001B[38;5;124m\"\u001B[39m\u001B[38;5;124m]\u001B[39m\u001B[38;5;124m\"\u001B[39m\n\u001B[0;32m--> 288\u001B[0m         \u001B[38;5;28;01mraise\u001B[39;00m \u001B[38;5;167;01mValueError\u001B[39;00m(\n\u001B[1;32m    289\u001B[0m             \u001B[38;5;124;03m\"\"\"\u001B[39;00m\n\u001B[1;32m    290\u001B[0m \u001B[38;5;124;03m    Invalid value of type {typ} received for the '{name}' property of {pname}\u001B[39;00m\n\u001B[1;32m    291\u001B[0m \u001B[38;5;124;03m        Received value: {v}\u001B[39;00m\n\u001B[1;32m    292\u001B[0m \n\u001B[1;32m    293\u001B[0m \u001B[38;5;124;03m{valid_clr_desc}\"\"\"\u001B[39;00m\u001B[38;5;241m.\u001B[39mformat(\n\u001B[1;32m    294\u001B[0m                 name\u001B[38;5;241m=\u001B[39mname,\n\u001B[1;32m    295\u001B[0m                 pname\u001B[38;5;241m=\u001B[39m\u001B[38;5;28mself\u001B[39m\u001B[38;5;241m.\u001B[39mparent_name,\n\u001B[1;32m    296\u001B[0m                 typ\u001B[38;5;241m=\u001B[39mtype_str(v),\n\u001B[1;32m    297\u001B[0m                 v\u001B[38;5;241m=\u001B[39m\u001B[38;5;28mrepr\u001B[39m(v),\n\u001B[1;32m    298\u001B[0m                 valid_clr_desc\u001B[38;5;241m=\u001B[39m\u001B[38;5;28mself\u001B[39m\u001B[38;5;241m.\u001B[39mdescription(),\n\u001B[1;32m    299\u001B[0m             )\n\u001B[1;32m    300\u001B[0m         )\n",
      "\u001B[0;31mValueError\u001B[0m: \n    Invalid value of type 'builtins.int' received for the 'opacity' property of scatter3d\n        Received value: 5\n\n    The 'opacity' property is a number and may be specified as:\n      - An int or float in the interval [0, 1]"
     ]
    }
   ],
   "source": [
    "labels_u, i_u = np.unique(labels, return_index=True)\n",
    "color_names = ['blueviolet', 'lightgreen', 'salmon']\n",
    "fig = px.scatter_3d(image_df.iloc[labels==labels_u[0]], x=\"X\", y=\"Y\", z=\"Z\",opacity=0.5)\n",
    "fig.update_traces(marker=dict(color=colors[i_u[0]]))\n",
    "for i in range(1, len(labels_u)):\n",
    "    fig.add_trace(\n",
    "                go.Scatter3d(\n",
    "                    mode='markers',\n",
    "                    x=image_df[\"X\"].iloc[labels==labels_u[i]],\n",
    "                    y=image_df[\"Y\"].iloc[labels==labels_u[i]],\n",
    "                    z=image_df[\"Z\"].iloc[labels==labels_u[i]],\n",
    "                    opacity=5,\n",
    "                    marker=dict(\n",
    "                        color=colors[i_u[i]],\n",
    "                        size=7\n",
    "                    ),\n",
    "                    showlegend=False)\n",
    "                )\n",
    "fig.show()  "
   ]
  },
  {
   "cell_type": "code",
   "execution_count": null,
   "metadata": {},
   "outputs": [],
   "source": [
    "labels_u, i_u = np.unique(labels, return_index=True)\n",
    "color_names = ['blueviolet', 'lightgreen', 'salmon','honeydew']\n",
    "fig = px.scatter_3d(image_df.iloc[labels==labels_u[0]], x=\"X\", y=\"Y\", z=\"Z\",opacity=0.5, color=color_names[0])\n",
    "for i in range(1, len(labels_u)):\n",
    "    fig.add_trace(\n",
    "                go.Scatter3d(image_df.iloc[labels==labels_u[i]],\n",
    "                    mode='markers',\n",
    "                    x=\"X\", y=\"Y\", z=\"Z\",\n",
    "                    marker=dict(\n",
    "                        color=color_names[i],\n",
    "                        size=7\n",
    "                    ),\n",
    "                    showlegend=False)\n",
    "                )\n",
    "fig.show()  "
   ]
  }
 ],
 "metadata": {
  "kernelspec": {
   "display_name": "Python 3 (ipykernel)",
   "language": "python",
   "name": "python3"
  },
  "language_info": {
   "codemirror_mode": {
    "name": "ipython",
    "version": 3
   },
   "file_extension": ".py",
   "mimetype": "text/x-python",
   "name": "python",
   "nbconvert_exporter": "python",
   "pygments_lexer": "ipython3",
   "version": "3.10.8"
  }
 },
 "nbformat": 4,
 "nbformat_minor": 1
}

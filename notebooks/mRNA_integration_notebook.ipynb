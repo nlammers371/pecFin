{
 "cells": [
  {
   "cell_type": "markdown",
   "metadata": {},
   "source": [
    "## Notebook to experiment with strategies for integrating mRNA values"
   ]
  },
  {
   "cell_type": "code",
   "execution_count": null,
   "metadata": {
    "pycharm": {
     "is_executing": true
    }
   },
   "outputs": [],
   "source": [
    "# import packages\n",
    "import numpy as np\n",
    "import pandas as pd\n",
    "import plotly.express as px\n",
    "import plotly.graph_objects as go\n",
    "from ome_zarr.io import parse_url\n",
    "from ome_zarr.reader import Reader\n",
    "\n",
    "# Load test dataset of nucleus centroids\n",
    "nc_path = \"/Users/nick/Dropbox (Cole Trapnell's Lab)/Nick/pecFin/HCR_Data/built_zarr_files/2022_12_15 HCR Hand2 Tbx5a Fgf10a_1_nucleus_props.csv\"\n",
    "nucleus_df = pd.read_csv(nc_path)\n",
    "\n",
    "# load image and label datasets\n",
    "level = 0\n",
    "filename = \"2022_12_15 HCR Hand2 Tbx5a Fgf10a_1.zarr\"\n",
    "readPath = \"/Users/nick/Dropbox (Cole Trapnell's Lab)/Nick/pecFin/HCR_Data/built_zarr_files/\" + filename\n",
    "readPathLabels = \"/Users/nick/Dropbox (Cole Trapnell's Lab)/Nick/pecFin/HCR_Data/built_zarr_files/\" + filename + \"labels\"\n",
    "\n",
    "#############\n",
    "# Main image\n",
    "#############\n",
    "\n",
    "# read the image data\n",
    "store = parse_url(readPath, mode=\"r\").store\n",
    "reader = Reader(parse_url(readPath))\n",
    "\n",
    "# nodes may include images, labels etc\n",
    "nodes = list(reader())\n",
    "\n",
    "# first node will be the image pixel data\n",
    "image_node = nodes[0]\n",
    "image_data = image_node.data\n",
    "\n",
    "#############\n",
    "# Labels\n",
    "#############\n",
    "\n",
    "# read the image data\n",
    "store_lb = parse_url(readPathLabels, mode=\"r\").store\n",
    "reader_lb = Reader(parse_url(readPathLabels))\n",
    "\n",
    "# nodes may include images, labels etc\n",
    "nodes_lb = list(reader_lb())\n",
    "\n",
    "# first node will be the image pixel data\n",
    "label_node = nodes_lb[1]\n",
    "label_data = label_node.data\n",
    "\n",
    "# extract key image attributes\n",
    "omero_attrs = image_node.root.zarr.root_attrs['omero']\n",
    "channel_metadata = omero_attrs['channels']  # list of channels and relevant info\n",
    "multiscale_attrs = image_node.root.zarr.root_attrs['multiscales']\n",
    "axis_names = multiscale_attrs[0]['axes']\n",
    "dataset_info = multiscale_attrs[0]['datasets']  # list containing scale factors for each axis"
   ]
  },
  {
   "cell_type": "markdown",
   "metadata": {},
   "source": [
    "### Iterate through the list of centroids"
   ]
  },
  {
   "cell_type": "code",
   "execution_count": null,
   "metadata": {
    "pycharm": {
     "is_executing": true
    }
   },
   "outputs": [],
   "source": [
    "from skimage.measure import label, regionprops, regionprops_table\n",
    "\n",
    "# initialize empty columns\n",
    "channel_names = [channel_metadata[i][\"label\"] for i in range(len(channel_metadata))]\n",
    "for ch in channel_names:\n",
    "    nucleus_df[ch] = np.nan\n",
    "    nucleus_df[ch + \"_mean\"] = np.nan\n",
    "\n",
    "scale_vec = multiscale_attrs[0][\"datasets\"][level][\"coordinateTransformations\"][0][\"scale\"]\n",
    "\n",
    "label_array = label_data[level].compute()\n",
    "image_array = image_data[level]\n",
    "\n",
    "regions = regionprops(label_array)\n",
    "    "
   ]
  },
  {
   "cell_type": "markdown",
   "metadata": {},
   "source": [
    "### For each region, extract centroid info and integrate mRNA levels"
   ]
  },
  {
   "cell_type": "code",
   "execution_count": null,
   "metadata": {
    "pycharm": {
     "is_executing": true
    }
   },
   "outputs": [],
   "source": [
    "# list of colors to use when plotting mRNA levels\n",
    "colormaps = [channel_metadata[i][\"color\"] for i in range(len(channel_metadata))]\n",
    "# clean up data frame\n",
    "colnames = nucleus_df.columns\n",
    "clean_indices = [i for i,item in enumerate(colnames) if \"Unnamed\" not in item]\n",
    "nucleus_df_clean = nucleus_df.iloc[:, clean_indices]\n",
    "# compute each channel of image array separately to avoid dask error\n",
    "im_array_list = []\n",
    "for ch in range(len(channel_names)-1):\n",
    "    im_array_list.append(np.asarray(image_array[ch, :, :, :].compute()))\n",
    "    \n",
    "# iterate through regions to extract key info\n",
    "for rgi, rg in enumerate(regions):\n",
    "    # get coordinates\n",
    "    nucleus_df[[\"Z\", \"Y\", \"X\"]].iloc[rgi] = np.multiply(rg.centroid, scale_vec)\n",
    "    \n",
    "    # iterate through channels\n",
    "    nc_coords = rg.coords.astype(int)\n",
    "    n_pix = nc_coords.shape[0]\n",
    "    for ch in range(3):\n",
    "        #nc_ch_coords = np.concatenate((np.ones((n_pix,1))*ch, nc_coords), axis=1).astype(int)\n",
    "        im_ch = im_array_list[ch]\n",
    "        mRNA_integral = np.sum(im_ch[tuple(nc_coords.T)])\n",
    "        \n",
    "        nucleus_df_clean[channel_names[ch]].iloc[rgi] = mRNA_integral\n",
    "        nucleus_df_clean[channel_names[ch] + \"_mean\"].iloc[rgi] = mRNA_integral / n_pix\n",
    "        \n",
    "    "
   ]
  },
  {
   "cell_type": "code",
   "execution_count": null,
   "metadata": {
    "pycharm": {
     "is_executing": true
    }
   },
   "outputs": [],
   "source": [
    "print(nucleus_df_clean.head(3))"
   ]
  },
  {
   "cell_type": "markdown",
   "metadata": {},
   "source": [
    "### Make scatter plots showing mRNA levels for each gene"
   ]
  },
  {
   "cell_type": "code",
   "execution_count": null,
   "metadata": {
    "pycharm": {
     "is_executing": true
    }
   },
   "outputs": [],
   "source": [
    "import plotly.graph_objects as go\n",
    "\n",
    "fin_nuclei = np.where(nucleus_df_clean[\"pec_fin_flag\"]==1)\n",
    "colormaps[1] = \"greens\"\n",
    "colormaps[2] = \"blues\"\n",
    "channel_ind = 0\n",
    "mRNA_channel = channel_names[channel_ind] + \"_mean\"\n",
    "\n",
    "# estimate background\n",
    "nucleus_df_fin = nucleus_df_clean.iloc[fin_nuclei]\n",
    "\n",
    "# fig = px.histogram(nucleus_df_fin, x=mRNA_channel)\n",
    "# fig.show()\n",
    "fig = px.scatter_3d(nucleus_df_fin, x=\"X\", y=\"Y\", z=\"Z\", \n",
    "              opacity=0.75, color=mRNA_channel, color_continuous_scale=colormaps[channel_ind])\n",
    "\n",
    "fig.update_traces(marker=dict(size=5))\n",
    "                \n",
    "fig.show()\n"
   ]
  },
  {
   "cell_type": "markdown",
   "metadata": {},
   "source": [
    "### Plot just top 25% expressing"
   ]
  },
  {
   "cell_type": "code",
   "execution_count": null,
   "metadata": {
    "pycharm": {
     "is_executing": true
    }
   },
   "outputs": [],
   "source": [
    "mRNA_75 = nucleus_df_fin[mRNA_channel].quantile(0.75)\n",
    "\n",
    "mRNA_fin_nuclei = np.where(nucleus_df_fin[mRNA_channel]>=mRNA_75)\n",
    "\n",
    "fig = px.scatter_3d(nucleus_df_fin, x=\"X\", y=\"Y\", z=\"Z\", \n",
    "              opacity=0.5)\n",
    "\n",
    "fig.update_traces(marker=dict(size=7, color=\"gray\"))\n",
    "\n",
    "fig.add_trace(go.Scatter3d(x=nucleus_df_fin[\"X\"].iloc[mRNA_fin_nuclei], \n",
    "                           y=nucleus_df_fin[\"Y\"].iloc[mRNA_fin_nuclei],\n",
    "                           z=nucleus_df_fin[\"Z\"].iloc[mRNA_fin_nuclei], \n",
    "                           mode='markers', \n",
    "                           opacity=0.75,\n",
    "                           marker=dict(color=nucleus_df_fin[mRNA_channel].iloc[mRNA_fin_nuclei],\n",
    "                             colorscale=colormaps[channel_ind],\n",
    "                             size=7)\n",
    "                            ))\n",
    "fig.show()"
   ]
  },
  {
   "cell_type": "markdown",
   "metadata": {},
   "source": [
    "### Now, try \"cell\" based integration"
   ]
  },
  {
   "cell_type": "code",
   "execution_count": null,
   "metadata": {
    "pycharm": {
     "is_executing": true
    }
   },
   "outputs": [],
   "source": [
    "# initialize arrays to track labels and distances\n",
    "cell_label_array = np.zeros(label_array.shape)\n",
    "dist_array = np.ones(label_array.shape)*np.inf\n",
    "\n",
    "unique_labels = np.unique(label_array.flatten())\n",
    "#print(unique_labels)\n"
   ]
  },
  {
   "cell_type": "code",
   "execution_count": null,
   "metadata": {
    "pycharm": {
     "is_executing": true
    }
   },
   "outputs": [],
   "source": [
    "from scipy.ndimage import distance_transform_edt\n",
    "import dask\n",
    "\n",
    "unique_labels = unique_labels[1:]\n",
    "for lb in range(0,1):\n",
    "    mask_array = dask.array.from_array(label_array==lb, chunks='auto')\n",
    "    d_array = distance_transform_edt(mask_array[:,:,:])"
   ]
  },
  {
   "cell_type": "code",
   "execution_count": null,
   "metadata": {
    "pycharm": {
     "is_executing": true
    }
   },
   "outputs": [],
   "source": []
  },
  {
   "cell_type": "code",
   "execution_count": null,
   "metadata": {
    "pycharm": {
     "is_executing": true
    }
   },
   "outputs": [],
   "source": []
  }
 ],
 "metadata": {
  "kernelspec": {
   "display_name": "Python 3 (ipykernel)",
   "language": "python",
   "name": "python3"
  },
  "language_info": {
   "codemirror_mode": {
    "name": "ipython",
    "version": 3
   },
   "file_extension": ".py",
   "mimetype": "text/x-python",
   "name": "python",
   "nbconvert_exporter": "python",
   "pygments_lexer": "ipython3",
   "version": "3.10.8"
  }
 },
 "nbformat": 4,
 "nbformat_minor": 1
}
